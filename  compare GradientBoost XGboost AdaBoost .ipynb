{
 "cells": [
  {
   "cell_type": "code",
   "execution_count": 15,
   "metadata": {},
   "outputs": [],
   "source": [
    "from sklearn.datasets import load_digits\n",
    "from sklearn.ensemble import GradientBoostingClassifier\n",
    "import matplotlib.pyplot as plt\n",
    "from sklearn.model_selection import train_test_split\n",
    "from sklearn.metrics import confusion_matrix\n",
    "from xgboost import XGBClassifier\n",
    "from sklearn.model_selection import GridSearchCV\n",
    "from sklearn.tree import DecisionTreeClassifier\n",
    "from sklearn.ensemble import AdaBoostClassifier\n",
    "\n",
    "import numpy as np"
   ]
  },
  {
   "cell_type": "code",
   "execution_count": 2,
   "metadata": {},
   "outputs": [],
   "source": [
    "data = load_digits()\n",
    "X = data.data/255\n",
    "y = data.target\n",
    "\n",
    "X_train, X_test, y_train, y_test = train_test_split(X,y, test_size=.3)"
   ]
  },
  {
   "cell_type": "code",
   "execution_count": 5,
   "metadata": {},
   "outputs": [
    {
     "name": "stderr",
     "output_type": "stream",
     "text": [
      "/anaconda3/envs/Tensorflow_test/lib/python3.7/site-packages/sklearn/model_selection/_split.py:1978: FutureWarning: The default value of cv will change from 3 to 5 in version 0.22. Specify it explicitly to silence this warning.\n",
      "  warnings.warn(CV_WARNING, FutureWarning)\n",
      "/anaconda3/envs/Tensorflow_test/lib/python3.7/site-packages/sklearn/model_selection/_search.py:813: DeprecationWarning: The default of the `iid` parameter will change from True to False in version 0.22 and will be removed in 0.24. This will change numeric results when test-set sizes are unequal.\n",
      "  DeprecationWarning)\n"
     ]
    }
   ],
   "source": [
    "#model 1: Grid Search Gradient Boost\n",
    "np.random.seed(6)\n",
    "learning_rate = np.logspace(-3,3,10)\n",
    "grid_para = dict(learning_rate = learning_rate)\n",
    "\n",
    "cv_model = GridSearchCV(GradientBoostingClassifier(),grid_para)\n",
    "cv_model.fit(X_train, y_train)\n",
    "\n",
    "np.random.seed(6)\n",
    "clf1 = GradientBoostingClassifier(learning_rate = cv_model.best_params_['learning_rate'])\n",
    "clf1.fit(X_train, y_train)\n",
    "y_predict = clf1.predict(X_test)\n"
   ]
  },
  {
   "cell_type": "code",
   "execution_count": 6,
   "metadata": {},
   "outputs": [
    {
     "name": "stdout",
     "output_type": "stream",
     "text": [
      "accuracy: 0.9685185185185186\n",
      "[[52  0  0  0  0  0  0  0  0  0]\n",
      " [ 0 47  2  0  0  0  0  0  0  0]\n",
      " [ 0  1 55  0  0  0  0  0  0  0]\n",
      " [ 0  0  0 53  0  0  0  1  2  0]\n",
      " [ 0  0  0  0 49  0  0  1  0  0]\n",
      " [ 0  0  0  0  0 53  0  0  1  0]\n",
      " [ 0  0  0  0  0  1 64  0  1  0]\n",
      " [ 1  0  0  0  1  0  0 49  1  1]\n",
      " [ 0  1  0  0  0  0  0  0 43  0]\n",
      " [ 1  0  0  0  0  0  0  0  1 58]]\n"
     ]
    }
   ],
   "source": [
    "print('accuracy:', clf1.score(X_test, y_test))\n",
    "print(confusion_matrix(y_test, y_predict))"
   ]
  },
  {
   "cell_type": "code",
   "execution_count": 7,
   "metadata": {},
   "outputs": [
    {
     "name": "stdout",
     "output_type": "stream",
     "text": [
      "accuracy: 0.9629629629629629\n",
      "[[52  0  0  0  0  0  0  0  0  0]\n",
      " [ 0 47  1  0  0  0  0  1  0  0]\n",
      " [ 0  1 55  0  0  0  0  0  0  0]\n",
      " [ 0  0  0 54  0  0  0  1  1  0]\n",
      " [ 0  0  0  0 49  0  0  1  0  0]\n",
      " [ 0  0  0  0  0 52  0  0  1  1]\n",
      " [ 0  0  0  0  0  1 64  0  1  0]\n",
      " [ 0  0  0  0  1  0  0 50  1  1]\n",
      " [ 0  2  0  0  0  0  0  2 40  0]\n",
      " [ 0  0  0  1  0  0  0  0  2 57]]\n"
     ]
    }
   ],
   "source": [
    "#model 2: XG boost\n",
    "np.random.seed(6)\n",
    "clf2 = XGBClassifier(learning_rate = .1)\n",
    "clf2.fit(X_train, y_train)\n",
    "y_predict2 = clf2.predict(X_test)\n",
    "print('accuracy:',clf2.score(X_test, y_test))\n",
    "print(confusion_matrix(y_test, y_predict2))\n"
   ]
  },
  {
   "cell_type": "code",
   "execution_count": 30,
   "metadata": {},
   "outputs": [
    {
     "name": "stdout",
     "output_type": "stream",
     "text": [
      "accuracy: 0.8444444444444444\n",
      "AdaBoostClassifier(algorithm='SAMME.R',\n",
      "                   base_estimator=DecisionTreeClassifier(class_weight=None,\n",
      "                                                         criterion='gini',\n",
      "                                                         max_depth=None,\n",
      "                                                         max_features=None,\n",
      "                                                         max_leaf_nodes=None,\n",
      "                                                         min_impurity_decrease=0.0,\n",
      "                                                         min_impurity_split=None,\n",
      "                                                         min_samples_leaf=1,\n",
      "                                                         min_samples_split=2,\n",
      "                                                         min_weight_fraction_leaf=0.0,\n",
      "                                                         presort=False,\n",
      "                                                         random_state=None,\n",
      "                                                         splitter='best'),\n",
      "                   learning_rate=1.0, n_estimators=50, random_state=None)\n"
     ]
    }
   ],
   "source": [
    "# model3: Decision tree with ada boost\n",
    "np.random.seed(6)\n",
    "clf3 = AdaBoostClassifier(DecisionTreeClassifier())\n",
    "clf3.fit(X_train, y_train)\n",
    "print('accuracy:', clf3.score(X_test, y_test))\n",
    "print(clf3)"
   ]
  },
  {
   "cell_type": "code",
   "execution_count": 35,
   "metadata": {},
   "outputs": [
    {
     "name": "stderr",
     "output_type": "stream",
     "text": [
      "/anaconda3/envs/Tensorflow_test/lib/python3.7/site-packages/sklearn/model_selection/_split.py:1978: FutureWarning: The default value of cv will change from 3 to 5 in version 0.22. Specify it explicitly to silence this warning.\n",
      "  warnings.warn(CV_WARNING, FutureWarning)\n"
     ]
    },
    {
     "name": "stdout",
     "output_type": "stream",
     "text": [
      "0.8210023866348448\n",
      "{'learning_rate': 1.6681005372000592, 'n_estimators': 160}\n"
     ]
    }
   ],
   "source": [
    "# model4: decision tree with ada boost - grid search\n",
    "np.random.seed(6)\n",
    "learning_rate = np.logspace(-2,2,10)\n",
    "n_estimator = np.arange(10,200,30)\n",
    "grid_para = dict(learning_rate = learning_rate, n_estimators = n_estimator)\n",
    "model = GridSearchCV(AdaBoostClassifier(DecisionTreeClassifier()),grid_para)\n",
    "model.fit(X_train,y_train)\n",
    "print(model.best_score_)\n",
    "print(model.best_params_)"
   ]
  },
  {
   "cell_type": "code",
   "execution_count": 36,
   "metadata": {},
   "outputs": [
    {
     "name": "stdout",
     "output_type": "stream",
     "text": [
      "accuracy: 0.8444444444444444\n"
     ]
    }
   ],
   "source": [
    "np.random.seed(6)\n",
    "clf3 = AdaBoostClassifier(DecisionTreeClassifier(),learning_rate= model.best_params_['learning_rate'], n_estimators = model.best_params_['n_estimators'])\n",
    "clf3.fit(X_train, y_train)\n",
    "print('accuracy:', clf3.score(X_test, y_test))"
   ]
  },
  {
   "cell_type": "code",
   "execution_count": 37,
   "metadata": {},
   "outputs": [
    {
     "name": "stdout",
     "output_type": "stream",
     "text": [
      "accuracy: 0.6851851851851852\n"
     ]
    }
   ],
   "source": [
    "# model5: ada boost alone\n",
    "np.random.seed(6)\n",
    "clf3 = AdaBoostClassifier(learning_rate = 1.67, n_estimators = 160)\n",
    "clf3.fit(X_train, y_train)\n",
    "print('accuracy:',clf3.score(X_test, y_test))"
   ]
  },
  {
   "cell_type": "code",
   "execution_count": null,
   "metadata": {},
   "outputs": [],
   "source": []
  }
 ],
 "metadata": {
  "kernelspec": {
   "display_name": "Python 3",
   "language": "python",
   "name": "python3"
  },
  "language_info": {
   "codemirror_mode": {
    "name": "ipython",
    "version": 3
   },
   "file_extension": ".py",
   "mimetype": "text/x-python",
   "name": "python",
   "nbconvert_exporter": "python",
   "pygments_lexer": "ipython3",
   "version": "3.7.3"
  }
 },
 "nbformat": 4,
 "nbformat_minor": 2
}
