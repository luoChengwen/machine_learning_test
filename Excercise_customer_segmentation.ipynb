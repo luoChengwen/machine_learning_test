{
  "nbformat": 4,
  "nbformat_minor": 0,
  "metadata": {
    "colab": {
      "name": "Excercise.ipynb",
      "provenance": [],
      "collapsed_sections": [],
      "toc_visible": true,
      "include_colab_link": true
    },
    "kernelspec": {
      "name": "python3",
      "display_name": "Python 3"
    }
  },
  "cells": [
    {
      "cell_type": "markdown",
      "metadata": {
        "id": "view-in-github",
        "colab_type": "text"
      },
      "source": [
        "<a href=\"https://colab.research.google.com/github/luoChengwen/machine_learning_test/blob/master/Excercise_customer_segmentation.ipynb\" target=\"_parent\"><img src=\"https://colab.research.google.com/assets/colab-badge.svg\" alt=\"Open In Colab\"/></a>"
      ]
    },
    {
      "cell_type": "code",
      "metadata": {
        "id": "0pooSZgLzyd5",
        "colab_type": "code",
        "outputId": "bced9690-1d0d-4be3-aa52-66b1433e6587",
        "colab": {
          "base_uri": "https://localhost:8080/",
          "height": 54
        }
      },
      "source": [
        "from google.colab import drive\n",
        "drive.mount('/gdrive')"
      ],
      "execution_count": 1,
      "outputs": [
        {
          "output_type": "stream",
          "text": [
            "Drive already mounted at /gdrive; to attempt to forcibly remount, call drive.mount(\"/gdrive\", force_remount=True).\n"
          ],
          "name": "stdout"
        }
      ]
    },
    {
      "cell_type": "code",
      "metadata": {
        "id": "nNbKR9QKzhlp",
        "colab_type": "code",
        "colab": {}
      },
      "source": [
        "import pandas as pd\n",
        "import numpy as np\n",
        "import matplotlib.pyplot as plt\n",
        "import seaborn as sns"
      ],
      "execution_count": 0,
      "outputs": []
    },
    {
      "cell_type": "code",
      "metadata": {
        "id": "Q2w0xvBdzydL",
        "colab_type": "code",
        "colab": {}
      },
      "source": [
        "data = pd.read_csv('/gdrive/My Drive/assignment/exercise/Data.csv')"
      ],
      "execution_count": 0,
      "outputs": []
    },
    {
      "cell_type": "code",
      "metadata": {
        "id": "cM3AYbas1nty",
        "colab_type": "code",
        "outputId": "26811735-d9f4-4421-b24a-b0ff7e26fee2",
        "colab": {
          "base_uri": "https://localhost:8080/",
          "height": 360
        }
      },
      "source": [
        "data.head()"
      ],
      "execution_count": 4,
      "outputs": [
        {
          "output_type": "execute_result",
          "data": {
            "text/html": [
              "<div>\n",
              "<style scoped>\n",
              "    .dataframe tbody tr th:only-of-type {\n",
              "        vertical-align: middle;\n",
              "    }\n",
              "\n",
              "    .dataframe tbody tr th {\n",
              "        vertical-align: top;\n",
              "    }\n",
              "\n",
              "    .dataframe thead th {\n",
              "        text-align: right;\n",
              "    }\n",
              "</style>\n",
              "<table border=\"1\" class=\"dataframe\">\n",
              "  <thead>\n",
              "    <tr style=\"text-align: right;\">\n",
              "      <th></th>\n",
              "      <th>POLICY_REF_DUMMY</th>\n",
              "      <th>PROPOSAL_SUBMISSION_DATE</th>\n",
              "      <th>FIRST_UW_DEC</th>\n",
              "      <th>LAST_UW_DEC</th>\n",
              "      <th>ISSUE_DATE</th>\n",
              "      <th>ST_DATE</th>\n",
              "      <th>POL_ST</th>\n",
              "      <th>QRY</th>\n",
              "      <th>PRODUCT_CATEGORY</th>\n",
              "      <th>PROD_TYPE</th>\n",
              "      <th>PRODUCT_CODE</th>\n",
              "      <th>PRODUCT_NAME_L1</th>\n",
              "      <th>PRODUCT_NAME</th>\n",
              "      <th>BASIC_COVER_TYPE</th>\n",
              "      <th>COVER_CODE</th>\n",
              "      <th>COVER_TYPE</th>\n",
              "      <th>COVER_CAT</th>\n",
              "      <th>INSURED_AMT</th>\n",
              "      <th>PREMIUM</th>\n",
              "      <th>COVER_TERM</th>\n",
              "      <th>PAY_TERM</th>\n",
              "      <th>PAY_METHOD</th>\n",
              "      <th>PAY_MODE</th>\n",
              "      <th>PAY_AGE</th>\n",
              "      <th>COVER_AGE</th>\n",
              "      <th>INSURED_ID</th>\n",
              "      <th>BUYER_ID</th>\n",
              "      <th>RELATIONSHIP</th>\n",
              "      <th>RELATIONSHIP_BIN</th>\n",
              "      <th>ENTRY_AGE</th>\n",
              "      <th>GENDER</th>\n",
              "      <th>OCCUPATION</th>\n",
              "      <th>OCCUPATION_CLASS</th>\n",
              "      <th>SMOKER_STATUS</th>\n",
              "      <th>SMK_NO_CIG</th>\n",
              "      <th>HEIGHT</th>\n",
              "      <th>WEIGHT</th>\n",
              "      <th>MEDICAL_FLAG</th>\n",
              "      <th>NATIONALITY_DUMMY</th>\n",
              "      <th>REGION_DUMMY</th>\n",
              "      <th>OWNER_AGE</th>\n",
              "      <th>OWNER_GENDER</th>\n",
              "      <th>OWNER_OCCUPATION</th>\n",
              "      <th>OWNER_OCCUPATION_CLASS</th>\n",
              "      <th>CLASS_ORDER</th>\n",
              "      <th>AGENCY</th>\n",
              "      <th>CHANNEL</th>\n",
              "      <th>SERV_BRANCH_DUMMY</th>\n",
              "      <th>AGENT_CD_DUMMY</th>\n",
              "    </tr>\n",
              "  </thead>\n",
              "  <tbody>\n",
              "    <tr>\n",
              "      <th>0</th>\n",
              "      <td>POLID_6930</td>\n",
              "      <td>NaN</td>\n",
              "      <td>Issued Policy (UND)</td>\n",
              "      <td>OK TO ISSUE</td>\n",
              "      <td>03/19/2013</td>\n",
              "      <td>04/23/2014</td>\n",
              "      <td>SURRENDERED</td>\n",
              "      <td>UL_BASIC</td>\n",
              "      <td>Investment</td>\n",
              "      <td>UL</td>\n",
              "      <td>2,161</td>\n",
              "      <td>Optimal Power</td>\n",
              "      <td>OPTIMAL POWER PESO</td>\n",
              "      <td>UNIT LINK</td>\n",
              "      <td>2,161</td>\n",
              "      <td>Basic</td>\n",
              "      <td>NaN</td>\n",
              "      <td>125,000.00</td>\n",
              "      <td>100,000.00</td>\n",
              "      <td>1.0</td>\n",
              "      <td>1.0</td>\n",
              "      <td>Single Pay</td>\n",
              "      <td>Cash/Check</td>\n",
              "      <td>35.0</td>\n",
              "      <td>35.0</td>\n",
              "      <td>PART_ID_10751</td>\n",
              "      <td>NaN</td>\n",
              "      <td>SELF</td>\n",
              "      <td>SELF</td>\n",
              "      <td>34</td>\n",
              "      <td>F</td>\n",
              "      <td>PLANNER</td>\n",
              "      <td>NaN</td>\n",
              "      <td>NaN</td>\n",
              "      <td>NaN</td>\n",
              "      <td>5,1,FI</td>\n",
              "      <td>115 P</td>\n",
              "      <td>NaN</td>\n",
              "      <td>NATIONALITY_ID_1</td>\n",
              "      <td>REGION_11</td>\n",
              "      <td>34.0</td>\n",
              "      <td>F</td>\n",
              "      <td>PLANNER</td>\n",
              "      <td>NaN</td>\n",
              "      <td>0</td>\n",
              "      <td>NaN</td>\n",
              "      <td>NaN</td>\n",
              "      <td>SERV_BRANCH_398</td>\n",
              "      <td>NaN</td>\n",
              "    </tr>\n",
              "    <tr>\n",
              "      <th>1</th>\n",
              "      <td>POLID_3215</td>\n",
              "      <td>06/30/2011</td>\n",
              "      <td>Tagged as OK to issue</td>\n",
              "      <td>OK TO ISSUE</td>\n",
              "      <td>06/15/2011</td>\n",
              "      <td>06/08/2011</td>\n",
              "      <td>Inforce</td>\n",
              "      <td>TRAD_BASIC</td>\n",
              "      <td>Retirement</td>\n",
              "      <td>NUL</td>\n",
              "      <td>2,198</td>\n",
              "      <td>Velocity</td>\n",
              "      <td>5-Pay Velocity Express (Participating)</td>\n",
              "      <td>ANTICIPATED ENDOWMENT</td>\n",
              "      <td>2,198</td>\n",
              "      <td>Basic</td>\n",
              "      <td>NaN</td>\n",
              "      <td>500,000.00</td>\n",
              "      <td>161,515.00</td>\n",
              "      <td>5.0</td>\n",
              "      <td>5.0</td>\n",
              "      <td>Annual</td>\n",
              "      <td>Cash/Check</td>\n",
              "      <td>58.0</td>\n",
              "      <td>58.0</td>\n",
              "      <td>PART_ID_8104</td>\n",
              "      <td>NaN</td>\n",
              "      <td>SELF</td>\n",
              "      <td>SELF</td>\n",
              "      <td>53</td>\n",
              "      <td>F</td>\n",
              "      <td>FAMILY MEDICINE - DOCTOR</td>\n",
              "      <td>HOSPITAL, NURSING HOME, CLINIC, ASSYLUM</td>\n",
              "      <td>NaN</td>\n",
              "      <td>NaN</td>\n",
              "      <td>5,2,FI</td>\n",
              "      <td>54 K</td>\n",
              "      <td>NaN</td>\n",
              "      <td>NATIONALITY_ID_1</td>\n",
              "      <td>REGION_2</td>\n",
              "      <td>53.0</td>\n",
              "      <td>F</td>\n",
              "      <td>FAMILY MEDICINE - DOCTOR</td>\n",
              "      <td>HOSPITAL, NURSING HOME, CLINIC, ASSYLUM</td>\n",
              "      <td>4</td>\n",
              "      <td>NaN</td>\n",
              "      <td>NaN</td>\n",
              "      <td>SERV_BRANCH_452</td>\n",
              "      <td>AGENT_CD_58</td>\n",
              "    </tr>\n",
              "    <tr>\n",
              "      <th>2</th>\n",
              "      <td>POLID_7224</td>\n",
              "      <td>NaN</td>\n",
              "      <td>Issued Policy (UND)</td>\n",
              "      <td>OK TO ISSUE</td>\n",
              "      <td>06/18/2013</td>\n",
              "      <td>06/17/2013</td>\n",
              "      <td>INFORCE</td>\n",
              "      <td>UL_BASIC</td>\n",
              "      <td>Investment</td>\n",
              "      <td>UL</td>\n",
              "      <td>2,163</td>\n",
              "      <td>Optimum Gold</td>\n",
              "      <td>OPTIMUM GOLD</td>\n",
              "      <td>UNIT LINK</td>\n",
              "      <td>2,163</td>\n",
              "      <td>Basic</td>\n",
              "      <td>NaN</td>\n",
              "      <td>562,500.00</td>\n",
              "      <td>450,000.00</td>\n",
              "      <td>1.0</td>\n",
              "      <td>1.0</td>\n",
              "      <td>Single Pay</td>\n",
              "      <td>Cash/Check</td>\n",
              "      <td>60.0</td>\n",
              "      <td>60.0</td>\n",
              "      <td>PART_ID_15437</td>\n",
              "      <td>NaN</td>\n",
              "      <td>SELF</td>\n",
              "      <td>SELF</td>\n",
              "      <td>59</td>\n",
              "      <td>F</td>\n",
              "      <td>HOUSEWIFE</td>\n",
              "      <td>NaN</td>\n",
              "      <td>NaN</td>\n",
              "      <td>NaN</td>\n",
              "      <td>5,2,FI</td>\n",
              "      <td>140 P</td>\n",
              "      <td>NaN</td>\n",
              "      <td>NATIONALITY_ID_1</td>\n",
              "      <td>REGION_1</td>\n",
              "      <td>59.0</td>\n",
              "      <td>F</td>\n",
              "      <td>HOUSEWIFE</td>\n",
              "      <td>NaN</td>\n",
              "      <td>0</td>\n",
              "      <td>NaN</td>\n",
              "      <td>NaN</td>\n",
              "      <td>SERV_BRANCH_564</td>\n",
              "      <td>AGENT_CD_42</td>\n",
              "    </tr>\n",
              "    <tr>\n",
              "      <th>3</th>\n",
              "      <td>POLID_54</td>\n",
              "      <td>NaN</td>\n",
              "      <td>Tagged as OK to issue</td>\n",
              "      <td>OK TO ISSUE</td>\n",
              "      <td>12/14/2010</td>\n",
              "      <td>12/13/2010</td>\n",
              "      <td>Inforce</td>\n",
              "      <td>TRAD_BASIC</td>\n",
              "      <td>Retirement</td>\n",
              "      <td>NUL</td>\n",
              "      <td>2,127</td>\n",
              "      <td>Velocity</td>\n",
              "      <td>5-Pay Velocity (Participating)</td>\n",
              "      <td>ANTICIPATED ENDOWMENT</td>\n",
              "      <td>2,127</td>\n",
              "      <td>Basic</td>\n",
              "      <td>NaN</td>\n",
              "      <td>100,000.00</td>\n",
              "      <td>26,745.00</td>\n",
              "      <td>5.0</td>\n",
              "      <td>5.0</td>\n",
              "      <td>Annual</td>\n",
              "      <td>Cash/Check</td>\n",
              "      <td>24.0</td>\n",
              "      <td>24.0</td>\n",
              "      <td>PART_ID_5553</td>\n",
              "      <td>PART_ID_578</td>\n",
              "      <td>DAUGHTER</td>\n",
              "      <td>CHILDREN</td>\n",
              "      <td>19</td>\n",
              "      <td>F</td>\n",
              "      <td>STUDENT</td>\n",
              "      <td>STUDENT</td>\n",
              "      <td>NaN</td>\n",
              "      <td>NaN</td>\n",
              "      <td>5,0,FI</td>\n",
              "      <td>100 P</td>\n",
              "      <td>NaN</td>\n",
              "      <td>NATIONALITY_ID_1</td>\n",
              "      <td>REGION_10</td>\n",
              "      <td>50.0</td>\n",
              "      <td>F</td>\n",
              "      <td>BANK MANAGER</td>\n",
              "      <td>BANK</td>\n",
              "      <td>10</td>\n",
              "      <td>NaN</td>\n",
              "      <td>NaN</td>\n",
              "      <td>SERV_BRANCH_600</td>\n",
              "      <td>AGENT_CD_41</td>\n",
              "    </tr>\n",
              "    <tr>\n",
              "      <th>4</th>\n",
              "      <td>POLID_54</td>\n",
              "      <td>NaN</td>\n",
              "      <td>Tagged as OK to issue</td>\n",
              "      <td>OK TO ISSUE</td>\n",
              "      <td>12/14/2010</td>\n",
              "      <td>12/13/2010</td>\n",
              "      <td>Inforce</td>\n",
              "      <td>TRAD_RIDER</td>\n",
              "      <td>Protection</td>\n",
              "      <td>NUL</td>\n",
              "      <td>1,476</td>\n",
              "      <td>NaN</td>\n",
              "      <td>Accidental Death and Dismemberment Benefit Rider</td>\n",
              "      <td>ACC DEATH &amp; DISMEMBERMENT</td>\n",
              "      <td>1,476</td>\n",
              "      <td>Rider</td>\n",
              "      <td>NaN</td>\n",
              "      <td>100,000.00</td>\n",
              "      <td>443</td>\n",
              "      <td>5.0</td>\n",
              "      <td>5.0</td>\n",
              "      <td>Annual</td>\n",
              "      <td>Cash/Check</td>\n",
              "      <td>24.0</td>\n",
              "      <td>24.0</td>\n",
              "      <td>PART_ID_5553</td>\n",
              "      <td>PART_ID_578</td>\n",
              "      <td>DAUGHTER</td>\n",
              "      <td>CHILDREN</td>\n",
              "      <td>19</td>\n",
              "      <td>F</td>\n",
              "      <td>STUDENT</td>\n",
              "      <td>STUDENT</td>\n",
              "      <td>NaN</td>\n",
              "      <td>NaN</td>\n",
              "      <td>5,0,FI</td>\n",
              "      <td>100 P</td>\n",
              "      <td>NaN</td>\n",
              "      <td>NATIONALITY_ID_1</td>\n",
              "      <td>REGION_10</td>\n",
              "      <td>50.0</td>\n",
              "      <td>F</td>\n",
              "      <td>BANK MANAGER</td>\n",
              "      <td>BANK</td>\n",
              "      <td>10</td>\n",
              "      <td>NaN</td>\n",
              "      <td>NaN</td>\n",
              "      <td>SERV_BRANCH_600</td>\n",
              "      <td>AGENT_CD_41</td>\n",
              "    </tr>\n",
              "  </tbody>\n",
              "</table>\n",
              "</div>"
            ],
            "text/plain": [
              "  POLICY_REF_DUMMY PROPOSAL_SUBMISSION_DATE  ... SERV_BRANCH_DUMMY AGENT_CD_DUMMY\n",
              "0       POLID_6930                      NaN  ...   SERV_BRANCH_398            NaN\n",
              "1       POLID_3215               06/30/2011  ...   SERV_BRANCH_452    AGENT_CD_58\n",
              "2       POLID_7224                      NaN  ...   SERV_BRANCH_564    AGENT_CD_42\n",
              "3         POLID_54                      NaN  ...   SERV_BRANCH_600    AGENT_CD_41\n",
              "4         POLID_54                      NaN  ...   SERV_BRANCH_600    AGENT_CD_41\n",
              "\n",
              "[5 rows x 49 columns]"
            ]
          },
          "metadata": {
            "tags": []
          },
          "execution_count": 4
        }
      ]
    },
    {
      "cell_type": "code",
      "metadata": {
        "id": "9UXjQUFW1pOL",
        "colab_type": "code",
        "outputId": "01de3bc0-1331-43cc-aeb3-ac706ffbba8c",
        "colab": {
          "base_uri": "https://localhost:8080/",
          "height": 317
        }
      },
      "source": [
        "data.describe()"
      ],
      "execution_count": 5,
      "outputs": [
        {
          "output_type": "execute_result",
          "data": {
            "text/html": [
              "<div>\n",
              "<style scoped>\n",
              "    .dataframe tbody tr th:only-of-type {\n",
              "        vertical-align: middle;\n",
              "    }\n",
              "\n",
              "    .dataframe tbody tr th {\n",
              "        vertical-align: top;\n",
              "    }\n",
              "\n",
              "    .dataframe thead th {\n",
              "        text-align: right;\n",
              "    }\n",
              "</style>\n",
              "<table border=\"1\" class=\"dataframe\">\n",
              "  <thead>\n",
              "    <tr style=\"text-align: right;\">\n",
              "      <th></th>\n",
              "      <th>COVER_CAT</th>\n",
              "      <th>COVER_TERM</th>\n",
              "      <th>PAY_TERM</th>\n",
              "      <th>PAY_AGE</th>\n",
              "      <th>COVER_AGE</th>\n",
              "      <th>ENTRY_AGE</th>\n",
              "      <th>SMOKER_STATUS</th>\n",
              "      <th>SMK_NO_CIG</th>\n",
              "      <th>OWNER_AGE</th>\n",
              "      <th>CLASS_ORDER</th>\n",
              "      <th>AGENCY</th>\n",
              "      <th>CHANNEL</th>\n",
              "    </tr>\n",
              "  </thead>\n",
              "  <tbody>\n",
              "    <tr>\n",
              "      <th>count</th>\n",
              "      <td>0.0</td>\n",
              "      <td>19790.000000</td>\n",
              "      <td>19790.000000</td>\n",
              "      <td>19790.000000</td>\n",
              "      <td>19790.000000</td>\n",
              "      <td>20752.000000</td>\n",
              "      <td>0.0</td>\n",
              "      <td>0.0</td>\n",
              "      <td>20728.000000</td>\n",
              "      <td>20752.000000</td>\n",
              "      <td>0.0</td>\n",
              "      <td>0.0</td>\n",
              "    </tr>\n",
              "    <tr>\n",
              "      <th>mean</th>\n",
              "      <td>NaN</td>\n",
              "      <td>6.227337</td>\n",
              "      <td>6.227337</td>\n",
              "      <td>37.218090</td>\n",
              "      <td>37.218090</td>\n",
              "      <td>30.918658</td>\n",
              "      <td>NaN</td>\n",
              "      <td>NaN</td>\n",
              "      <td>43.508684</td>\n",
              "      <td>2.841172</td>\n",
              "      <td>NaN</td>\n",
              "      <td>NaN</td>\n",
              "    </tr>\n",
              "    <tr>\n",
              "      <th>std</th>\n",
              "      <td>NaN</td>\n",
              "      <td>13.736690</td>\n",
              "      <td>13.736690</td>\n",
              "      <td>21.935179</td>\n",
              "      <td>21.935179</td>\n",
              "      <td>18.898141</td>\n",
              "      <td>NaN</td>\n",
              "      <td>NaN</td>\n",
              "      <td>12.469283</td>\n",
              "      <td>2.377980</td>\n",
              "      <td>NaN</td>\n",
              "      <td>NaN</td>\n",
              "    </tr>\n",
              "    <tr>\n",
              "      <th>min</th>\n",
              "      <td>NaN</td>\n",
              "      <td>0.000000</td>\n",
              "      <td>0.000000</td>\n",
              "      <td>0.000000</td>\n",
              "      <td>0.000000</td>\n",
              "      <td>0.000000</td>\n",
              "      <td>NaN</td>\n",
              "      <td>NaN</td>\n",
              "      <td>2.000000</td>\n",
              "      <td>0.000000</td>\n",
              "      <td>NaN</td>\n",
              "      <td>NaN</td>\n",
              "    </tr>\n",
              "    <tr>\n",
              "      <th>25%</th>\n",
              "      <td>NaN</td>\n",
              "      <td>1.000000</td>\n",
              "      <td>1.000000</td>\n",
              "      <td>18.000000</td>\n",
              "      <td>18.000000</td>\n",
              "      <td>13.000000</td>\n",
              "      <td>NaN</td>\n",
              "      <td>NaN</td>\n",
              "      <td>35.000000</td>\n",
              "      <td>2.000000</td>\n",
              "      <td>NaN</td>\n",
              "      <td>NaN</td>\n",
              "    </tr>\n",
              "    <tr>\n",
              "      <th>50%</th>\n",
              "      <td>NaN</td>\n",
              "      <td>3.000000</td>\n",
              "      <td>3.000000</td>\n",
              "      <td>38.000000</td>\n",
              "      <td>38.000000</td>\n",
              "      <td>32.000000</td>\n",
              "      <td>NaN</td>\n",
              "      <td>NaN</td>\n",
              "      <td>43.000000</td>\n",
              "      <td>2.000000</td>\n",
              "      <td>NaN</td>\n",
              "      <td>NaN</td>\n",
              "    </tr>\n",
              "    <tr>\n",
              "      <th>75%</th>\n",
              "      <td>NaN</td>\n",
              "      <td>5.000000</td>\n",
              "      <td>5.000000</td>\n",
              "      <td>53.000000</td>\n",
              "      <td>53.000000</td>\n",
              "      <td>46.000000</td>\n",
              "      <td>NaN</td>\n",
              "      <td>NaN</td>\n",
              "      <td>52.000000</td>\n",
              "      <td>3.000000</td>\n",
              "      <td>NaN</td>\n",
              "      <td>NaN</td>\n",
              "    </tr>\n",
              "    <tr>\n",
              "      <th>max</th>\n",
              "      <td>NaN</td>\n",
              "      <td>100.000000</td>\n",
              "      <td>100.000000</td>\n",
              "      <td>109.000000</td>\n",
              "      <td>109.000000</td>\n",
              "      <td>75.000000</td>\n",
              "      <td>NaN</td>\n",
              "      <td>NaN</td>\n",
              "      <td>93.000000</td>\n",
              "      <td>10.000000</td>\n",
              "      <td>NaN</td>\n",
              "      <td>NaN</td>\n",
              "    </tr>\n",
              "  </tbody>\n",
              "</table>\n",
              "</div>"
            ],
            "text/plain": [
              "       COVER_CAT    COVER_TERM      PAY_TERM  ...   CLASS_ORDER  AGENCY  CHANNEL\n",
              "count        0.0  19790.000000  19790.000000  ...  20752.000000     0.0      0.0\n",
              "mean         NaN      6.227337      6.227337  ...      2.841172     NaN      NaN\n",
              "std          NaN     13.736690     13.736690  ...      2.377980     NaN      NaN\n",
              "min          NaN      0.000000      0.000000  ...      0.000000     NaN      NaN\n",
              "25%          NaN      1.000000      1.000000  ...      2.000000     NaN      NaN\n",
              "50%          NaN      3.000000      3.000000  ...      2.000000     NaN      NaN\n",
              "75%          NaN      5.000000      5.000000  ...      3.000000     NaN      NaN\n",
              "max          NaN    100.000000    100.000000  ...     10.000000     NaN      NaN\n",
              "\n",
              "[8 rows x 12 columns]"
            ]
          },
          "metadata": {
            "tags": []
          },
          "execution_count": 5
        }
      ]
    },
    {
      "cell_type": "code",
      "metadata": {
        "id": "QZk5jHHV8DDM",
        "colab_type": "code",
        "colab": {}
      },
      "source": [
        "data.drop(columns=['POLICY_REF_DUMMY', 'PROPOSAL_SUBMISSION_DATE', 'FIRST_UW_DEC',\n",
        "       'LAST_UW_DEC', 'ISSUE_DATE', 'ST_DATE', 'POL_ST','PAY_TERM',\n",
        "       'PAY_METHOD', 'PAY_MODE', 'PAY_AGE', 'COVER_AGE', 'AGENT_CD_DUMMY'], inplace=True)"
      ],
      "execution_count": 0,
      "outputs": []
    },
    {
      "cell_type": "code",
      "metadata": {
        "id": "2IK4ZGAi4ZSt",
        "colab_type": "code",
        "outputId": "3898cebc-ad7f-469d-fb83-63f09f849387",
        "colab": {
          "base_uri": "https://localhost:8080/",
          "height": 646
        }
      },
      "source": [
        "data.isnull().sum() / len(data) * 100"
      ],
      "execution_count": 7,
      "outputs": [
        {
          "output_type": "execute_result",
          "data": {
            "text/plain": [
              "QRY                         0.000000\n",
              "PRODUCT_CATEGORY            0.000000\n",
              "PROD_TYPE                   0.000000\n",
              "PRODUCT_CODE                0.000000\n",
              "PRODUCT_NAME_L1            38.285466\n",
              "PRODUCT_NAME                0.000000\n",
              "BASIC_COVER_TYPE            0.000000\n",
              "COVER_CODE                  0.000000\n",
              "COVER_TYPE                  0.000000\n",
              "COVER_CAT                 100.000000\n",
              "INSURED_AMT                 2.134734\n",
              "PREMIUM                     5.358520\n",
              "COVER_TERM                  4.635698\n",
              "INSURED_ID                  0.000000\n",
              "BUYER_ID                   60.798959\n",
              "RELATIONSHIP                0.000000\n",
              "RELATIONSHIP_BIN            0.000000\n",
              "ENTRY_AGE                   0.000000\n",
              "GENDER                      0.000000\n",
              "OCCUPATION                  8.196800\n",
              "OCCUPATION_CLASS            4.524865\n",
              "SMOKER_STATUS             100.000000\n",
              "SMK_NO_CIG                100.000000\n",
              "HEIGHT                      4.886276\n",
              "WEIGHT                      2.741904\n",
              "MEDICAL_FLAG               97.956823\n",
              "NATIONALITY_DUMMY           0.337317\n",
              "REGION_DUMMY                0.751735\n",
              "OWNER_AGE                   0.115652\n",
              "OWNER_GENDER                0.130108\n",
              "OWNER_OCCUPATION            1.522745\n",
              "OWNER_OCCUPATION_CLASS      4.895914\n",
              "CLASS_ORDER                 0.000000\n",
              "AGENCY                    100.000000\n",
              "CHANNEL                   100.000000\n",
              "SERV_BRANCH_DUMMY           0.000000\n",
              "dtype: float64"
            ]
          },
          "metadata": {
            "tags": []
          },
          "execution_count": 7
        }
      ]
    },
    {
      "cell_type": "code",
      "metadata": {
        "id": "3yUHezK-7Y_R",
        "colab_type": "code",
        "colab": {}
      },
      "source": [
        "# remove 100% empty cell\n",
        "data_2 = data[data.isnull().sum()[data.isnull().sum() / len(data) < .7].index]"
      ],
      "execution_count": 0,
      "outputs": []
    },
    {
      "cell_type": "code",
      "metadata": {
        "id": "CWv5Dxu39TaO",
        "colab_type": "code",
        "outputId": "a60a7508-0c2d-4d2f-a012-4598b4bdfb92",
        "colab": {
          "base_uri": "https://localhost:8080/",
          "height": 34
        }
      },
      "source": [
        "# double check whether na values in buyer_id only represents for buying for themselves, should be 0.\n",
        "sum(data_2.INSURED_ID == data_2.BUYER_ID)"
      ],
      "execution_count": 9,
      "outputs": [
        {
          "output_type": "execute_result",
          "data": {
            "text/plain": [
              "0"
            ]
          },
          "metadata": {
            "tags": []
          },
          "execution_count": 9
        }
      ]
    },
    {
      "cell_type": "code",
      "metadata": {
        "id": "qZrHa5_T81e7",
        "colab_type": "code",
        "outputId": "847fe4f7-7785-4974-93e0-914aa2fd091b",
        "colab": {
          "base_uri": "https://localhost:8080/",
          "height": 51
        }
      },
      "source": [
        "print(len(set(data_2.PRODUCT_CATEGORY.dropna())) )# number of insurance types\n",
        "set(data_2.PRODUCT_CATEGORY.dropna())"
      ],
      "execution_count": 10,
      "outputs": [
        {
          "output_type": "stream",
          "text": [
            "5\n"
          ],
          "name": "stdout"
        },
        {
          "output_type": "execute_result",
          "data": {
            "text/plain": [
              "{'Health', 'Investment', 'Protection', 'Retirement', 'Savings'}"
            ]
          },
          "metadata": {
            "tags": []
          },
          "execution_count": 10
        }
      ]
    },
    {
      "cell_type": "code",
      "metadata": {
        "id": "lyIIcaq3KtFp",
        "colab_type": "code",
        "outputId": "31575e37-0893-43ba-add3-7e19ce567fb7",
        "colab": {
          "base_uri": "https://localhost:8080/",
          "height": 139
        }
      },
      "source": [
        "data_2['BUYER_ID'] = pd.Series([data_2.loc[i,'BUYER_ID'] if isinstance(data_2.loc[i,'BUYER_ID'] ,str) else data_2.loc[i,'INSURED_ID'] for i in np.arange(len(data_2))])\n",
        "    "
      ],
      "execution_count": 11,
      "outputs": [
        {
          "output_type": "stream",
          "text": [
            "/usr/local/lib/python3.6/dist-packages/ipykernel_launcher.py:1: SettingWithCopyWarning: \n",
            "A value is trying to be set on a copy of a slice from a DataFrame.\n",
            "Try using .loc[row_indexer,col_indexer] = value instead\n",
            "\n",
            "See the caveats in the documentation: http://pandas.pydata.org/pandas-docs/stable/user_guide/indexing.html#returning-a-view-versus-a-copy\n",
            "  \"\"\"Entry point for launching an IPython kernel.\n"
          ],
          "name": "stderr"
        }
      ]
    },
    {
      "cell_type": "code",
      "metadata": {
        "id": "W9H0nunG80Cx",
        "colab_type": "code",
        "outputId": "549e554b-0858-4162-9e88-8a0df7d15410",
        "colab": {
          "base_uri": "https://localhost:8080/",
          "height": 139
        }
      },
      "source": [
        "gender_dict ={'F': 0, 'M':1, }\n",
        "data_2['OWNER_GENDER'] = data_2['OWNER_GENDER'].map(gender_dict)"
      ],
      "execution_count": 12,
      "outputs": [
        {
          "output_type": "stream",
          "text": [
            "/usr/local/lib/python3.6/dist-packages/ipykernel_launcher.py:2: SettingWithCopyWarning: \n",
            "A value is trying to be set on a copy of a slice from a DataFrame.\n",
            "Try using .loc[row_indexer,col_indexer] = value instead\n",
            "\n",
            "See the caveats in the documentation: http://pandas.pydata.org/pandas-docs/stable/user_guide/indexing.html#returning-a-view-versus-a-copy\n",
            "  \n"
          ],
          "name": "stderr"
        }
      ]
    },
    {
      "cell_type": "code",
      "metadata": {
        "id": "7e1NFIkNn2pt",
        "colab_type": "code",
        "outputId": "c89783e6-fd6f-4de4-9303-1a5a9e60f310",
        "colab": {
          "base_uri": "https://localhost:8080/",
          "height": 297
        }
      },
      "source": [
        "sns.distplot(data_2['OWNER_AGE'].dropna())"
      ],
      "execution_count": 13,
      "outputs": [
        {
          "output_type": "execute_result",
          "data": {
            "text/plain": [
              "<matplotlib.axes._subplots.AxesSubplot at 0x7f881c9b83c8>"
            ]
          },
          "metadata": {
            "tags": []
          },
          "execution_count": 13
        },
        {
          "output_type": "display_data",
          "data": {
            "image/png": "[encoded data removed]",
            "text/plain": [
              "<Figure size 432x288 with 1 Axes>"
            ]
          },
          "metadata": {
            "tags": []
          }
        }
      ]
    },
    {
      "cell_type": "code",
      "metadata": {
        "id": "Xjdt-JbWqHJs",
        "colab_type": "code",
        "outputId": "64ff8a56-a8eb-4f0e-866b-b1975bf4c42f",
        "colab": {
          "base_uri": "https://localhost:8080/",
          "height": 139
        }
      },
      "source": [
        "data_2['OWNER_AGE2'] = pd.qcut(data_2['OWNER_AGE'], 6)"
      ],
      "execution_count": 14,
      "outputs": [
        {
          "output_type": "stream",
          "text": [
            "/usr/local/lib/python3.6/dist-packages/ipykernel_launcher.py:1: SettingWithCopyWarning: \n",
            "A value is trying to be set on a copy of a slice from a DataFrame.\n",
            "Try using .loc[row_indexer,col_indexer] = value instead\n",
            "\n",
            "See the caveats in the documentation: http://pandas.pydata.org/pandas-docs/stable/user_guide/indexing.html#returning-a-view-versus-a-copy\n",
            "  \"\"\"Entry point for launching an IPython kernel.\n"
          ],
          "name": "stderr"
        }
      ]
    },
    {
      "cell_type": "code",
      "metadata": {
        "id": "ONgxwIdgLMNc",
        "colab_type": "code",
        "colab": {}
      },
      "source": [
        "# from scipy import stats\n",
        "# data_2[['OWNER_OCCUPATION', 'OWNER_OCCUPATION_CLASS']].groupby('OWNER_OCCUPATION_CLASS').apply(stats.mode)"
      ],
      "execution_count": 0,
      "outputs": []
    },
    {
      "cell_type": "code",
      "metadata": {
        "id": "j1Sz0BvPnvRS",
        "colab_type": "code",
        "outputId": "d99c3ac0-7771-4c67-dbeb-c26654c147e4",
        "colab": {
          "base_uri": "https://localhost:8080/",
          "height": 452
        }
      },
      "source": [
        "data_2.groupby(['OWNER_GENDER','OWNER_AGE2']).count()[['INSURED_ID']]\n"
      ],
      "execution_count": 16,
      "outputs": [
        {
          "output_type": "execute_result",
          "data": {
            "text/html": [
              "<div>\n",
              "<style scoped>\n",
              "    .dataframe tbody tr th:only-of-type {\n",
              "        vertical-align: middle;\n",
              "    }\n",
              "\n",
              "    .dataframe tbody tr th {\n",
              "        vertical-align: top;\n",
              "    }\n",
              "\n",
              "    .dataframe thead th {\n",
              "        text-align: right;\n",
              "    }\n",
              "</style>\n",
              "<table border=\"1\" class=\"dataframe\">\n",
              "  <thead>\n",
              "    <tr style=\"text-align: right;\">\n",
              "      <th></th>\n",
              "      <th></th>\n",
              "      <th>INSURED_ID</th>\n",
              "    </tr>\n",
              "    <tr>\n",
              "      <th>OWNER_GENDER</th>\n",
              "      <th>OWNER_AGE2</th>\n",
              "      <th></th>\n",
              "    </tr>\n",
              "  </thead>\n",
              "  <tbody>\n",
              "    <tr>\n",
              "      <th rowspan=\"6\" valign=\"top\">0.0</th>\n",
              "      <th>(1.999, 31.0]</th>\n",
              "      <td>2201</td>\n",
              "    </tr>\n",
              "    <tr>\n",
              "      <th>(31.0, 38.0]</th>\n",
              "      <td>2500</td>\n",
              "    </tr>\n",
              "    <tr>\n",
              "      <th>(38.0, 43.0]</th>\n",
              "      <td>2204</td>\n",
              "    </tr>\n",
              "    <tr>\n",
              "      <th>(43.0, 49.0]</th>\n",
              "      <td>2532</td>\n",
              "    </tr>\n",
              "    <tr>\n",
              "      <th>(49.0, 56.0]</th>\n",
              "      <td>2015</td>\n",
              "    </tr>\n",
              "    <tr>\n",
              "      <th>(56.0, 93.0]</th>\n",
              "      <td>2111</td>\n",
              "    </tr>\n",
              "    <tr>\n",
              "      <th rowspan=\"6\" valign=\"top\">1.0</th>\n",
              "      <th>(1.999, 31.0]</th>\n",
              "      <td>1467</td>\n",
              "    </tr>\n",
              "    <tr>\n",
              "      <th>(31.0, 38.0]</th>\n",
              "      <td>1228</td>\n",
              "    </tr>\n",
              "    <tr>\n",
              "      <th>(38.0, 43.0]</th>\n",
              "      <td>1115</td>\n",
              "    </tr>\n",
              "    <tr>\n",
              "      <th>(43.0, 49.0]</th>\n",
              "      <td>1193</td>\n",
              "    </tr>\n",
              "    <tr>\n",
              "      <th>(49.0, 56.0]</th>\n",
              "      <td>1053</td>\n",
              "    </tr>\n",
              "    <tr>\n",
              "      <th>(56.0, 93.0]</th>\n",
              "      <td>1106</td>\n",
              "    </tr>\n",
              "  </tbody>\n",
              "</table>\n",
              "</div>"
            ],
            "text/plain": [
              "                            INSURED_ID\n",
              "OWNER_GENDER OWNER_AGE2               \n",
              "0.0          (1.999, 31.0]        2201\n",
              "             (31.0, 38.0]         2500\n",
              "             (38.0, 43.0]         2204\n",
              "             (43.0, 49.0]         2532\n",
              "             (49.0, 56.0]         2015\n",
              "             (56.0, 93.0]         2111\n",
              "1.0          (1.999, 31.0]        1467\n",
              "             (31.0, 38.0]         1228\n",
              "             (38.0, 43.0]         1115\n",
              "             (43.0, 49.0]         1193\n",
              "             (49.0, 56.0]         1053\n",
              "             (56.0, 93.0]         1106"
            ]
          },
          "metadata": {
            "tags": []
          },
          "execution_count": 16
        }
      ]
    },
    {
      "cell_type": "code",
      "metadata": {
        "id": "6Zlkcm5Mndv3",
        "colab_type": "code",
        "outputId": "292c4a0a-df32-4bd2-8cb9-bad360733179",
        "colab": {
          "base_uri": "https://localhost:8080/",
          "height": 298
        }
      },
      "source": [
        "data_2.groupby(['OWNER_GENDER','OWNER_AGE2']).count()[['INSURED_ID']].unstack(0).plot.barh()\n",
        "plt.legend(['F','M'])\n",
        "plt.title('Age group & gender in buying insurance')"
      ],
      "execution_count": 17,
      "outputs": [
        {
          "output_type": "execute_result",
          "data": {
            "text/plain": [
              "Text(0.5, 1.0, 'Age group & gender in buying insurance')"
            ]
          },
          "metadata": {
            "tags": []
          },
          "execution_count": 17
        },
        {
          "output_type": "display_data",
          "data": {
            "image/png": "[encoded data removed]",
            "text/plain": [
              "<Figure size 432x288 with 1 Axes>"
            ]
          },
          "metadata": {
            "tags": []
          }
        }
      ]
    },
    {
      "cell_type": "markdown",
      "metadata": {
        "id": "IJSVuOig9Pre",
        "colab_type": "text"
      },
      "source": [
        "Females are more likly to buy insurance than males on average"
      ]
    },
    {
      "cell_type": "code",
      "metadata": {
        "id": "_Dn4dPDvfVMW",
        "colab_type": "code",
        "colab": {}
      },
      "source": [
        "buy_for_others = pd.DataFrame()\n",
        "for i in range(len(data_2)):\n",
        "    if data_2.loc[i,'INSURED_ID'] != data_2.loc[i,'BUYER_ID']:\n",
        "        buy_for_others = buy_for_others.append(data_2.loc[i,:], ignore_index=True)"
      ],
      "execution_count": 0,
      "outputs": []
    },
    {
      "cell_type": "code",
      "metadata": {
        "id": "ArUPFHx9gA-2",
        "colab_type": "code",
        "outputId": "c69493b5-3175-4bcc-8abe-140748dac810",
        "colab": {
          "base_uri": "https://localhost:8080/",
          "height": 298
        }
      },
      "source": [
        "buy_for_others.groupby(['OWNER_GENDER','OWNER_AGE2']).count()[['INSURED_ID']].unstack(0).plot.barh()\n",
        "plt.legend(['F','M'])\n",
        "plt.title('Age group & gender in buying insurance for others')"
      ],
      "execution_count": 19,
      "outputs": [
        {
          "output_type": "execute_result",
          "data": {
            "text/plain": [
              "Text(0.5, 1.0, 'Age group & gender in buying insurance for others')"
            ]
          },
          "metadata": {
            "tags": []
          },
          "execution_count": 19
        },
        {
          "output_type": "display_data",
          "data": {
            "image/png": "[encoded data removed]",
            "text/plain": [
              "<Figure size 432x288 with 1 Axes>"
            ]
          },
          "metadata": {
            "tags": []
          }
        }
      ]
    },
    {
      "cell_type": "markdown",
      "metadata": {
        "id": "0Dvx9lVh8myL",
        "colab_type": "text"
      },
      "source": [
        "Most people buy insurance for themselves.\n",
        "\n",
        "Q1, Feamles are more likely to buy insurance for others"
      ]
    },
    {
      "cell_type": "code",
      "metadata": {
        "id": "lqK9aTsf0SWW",
        "colab_type": "code",
        "outputId": "44053f1b-6683-4a92-e624-6ccfacfa34a9",
        "colab": {
          "base_uri": "https://localhost:8080/",
          "height": 516
        }
      },
      "source": [
        "buy_for_others.groupby(['RELATIONSHIP_BIN','OWNER_GENDER']).count()[['INSURED_ID']].unstack(0).plot.barh(figsize=(10,8))\n",
        "# plt.legend(['F','M'])\n",
        "plt.title('relationship & gender in buying insurance for others')"
      ],
      "execution_count": 20,
      "outputs": [
        {
          "output_type": "execute_result",
          "data": {
            "text/plain": [
              "Text(0.5, 1.0, 'relationship & gender in buying insurance for others')"
            ]
          },
          "metadata": {
            "tags": []
          },
          "execution_count": 20
        },
        {
          "output_type": "display_data",
          "data": {
            "image/png": "[encoded data removed]",
            "text/plain": [
              "<Figure size 720x576 with 1 Axes>"
            ]
          },
          "metadata": {
            "tags": []
          }
        }
      ]
    },
    {
      "cell_type": "code",
      "metadata": {
        "id": "Ix028x6M-dte",
        "colab_type": "code",
        "colab": {}
      },
      "source": [
        "import warnings\n",
        "warnings.simplefilter('ignore')\n",
        "\n",
        "data_2['OWNER_AGE'] = data_2['OWNER_AGE'].fillna(data_2.OWNER_AGE.mode()[0])\n",
        "data_2['OWNER_GENDER'] = data_2['OWNER_GENDER'].fillna(0)"
      ],
      "execution_count": 0,
      "outputs": []
    },
    {
      "cell_type": "code",
      "metadata": {
        "id": "7Q_JxntX-AVq",
        "colab_type": "code",
        "outputId": "6b542f2e-ba73-4a76-cb65-6168087250f8",
        "colab": {
          "base_uri": "https://localhost:8080/",
          "height": 561
        }
      },
      "source": [
        "data_2.isnull().sum()"
      ],
      "execution_count": 22,
      "outputs": [
        {
          "output_type": "execute_result",
          "data": {
            "text/plain": [
              "QRY                          0\n",
              "PRODUCT_CATEGORY             0\n",
              "PROD_TYPE                    0\n",
              "PRODUCT_CODE                 0\n",
              "PRODUCT_NAME_L1           7945\n",
              "PRODUCT_NAME                 0\n",
              "BASIC_COVER_TYPE             0\n",
              "COVER_CODE                   0\n",
              "COVER_TYPE                   0\n",
              "INSURED_AMT                443\n",
              "PREMIUM                   1112\n",
              "COVER_TERM                 962\n",
              "INSURED_ID                   0\n",
              "BUYER_ID                     0\n",
              "RELATIONSHIP                 0\n",
              "RELATIONSHIP_BIN             0\n",
              "ENTRY_AGE                    0\n",
              "GENDER                       0\n",
              "OCCUPATION                1701\n",
              "OCCUPATION_CLASS           939\n",
              "HEIGHT                    1014\n",
              "WEIGHT                     569\n",
              "NATIONALITY_DUMMY           70\n",
              "REGION_DUMMY               156\n",
              "OWNER_AGE                    0\n",
              "OWNER_GENDER                 0\n",
              "OWNER_OCCUPATION           316\n",
              "OWNER_OCCUPATION_CLASS    1016\n",
              "CLASS_ORDER                  0\n",
              "SERV_BRANCH_DUMMY            0\n",
              "OWNER_AGE2                  24\n",
              "dtype: int64"
            ]
          },
          "metadata": {
            "tags": []
          },
          "execution_count": 22
        }
      ]
    },
    {
      "cell_type": "code",
      "metadata": {
        "id": "JfsGqA6Cp8E8",
        "colab_type": "code",
        "colab": {
          "base_uri": "https://localhost:8080/",
          "height": 34
        },
        "outputId": "2a3f7c41-4d14-40db-a7b8-03f22e009d5c"
      },
      "source": [
        "from sklearn.preprocessing import LabelEncoder\n",
        "le = LabelEncoder()\n",
        "data_2.OWNER_OCCUPATION = data_2.OWNER_OCCUPATION.fillna('Missing')\n",
        "le.fit(data_2.OWNER_OCCUPATION)"
      ],
      "execution_count": 23,
      "outputs": [
        {
          "output_type": "execute_result",
          "data": {
            "text/plain": [
              "LabelEncoder()"
            ]
          },
          "metadata": {
            "tags": []
          },
          "execution_count": 23
        }
      ]
    },
    {
      "cell_type": "code",
      "metadata": {
        "id": "3K-AlKYuqfst",
        "colab_type": "code",
        "colab": {}
      },
      "source": [
        "data_2['OWNER_OCCUPATION'] = le.transform(data_2.OWNER_OCCUPATION) "
      ],
      "execution_count": 0,
      "outputs": []
    },
    {
      "cell_type": "code",
      "metadata": {
        "id": "nbdxX-qq7gMC",
        "colab_type": "code",
        "colab": {}
      },
      "source": [
        "# further columns to delete\n",
        "data_3 = data_2.drop(columns = ['PRODUCT_NAME','PRODUCT_NAME_L1', 'BASIC_COVER_TYPE', 'COVER_CODE','OWNER_OCCUPATION_CLASS', 'OCCUPATION', 'OCCUPATION_CLASS', 'HEIGHT','WEIGHT','REGION_DUMMY','NATIONALITY_DUMMY'])"
      ],
      "execution_count": 0,
      "outputs": []
    },
    {
      "cell_type": "code",
      "metadata": {
        "id": "sHBGGvW76dDH",
        "colab_type": "code",
        "outputId": "ecac863e-fe40-4e6f-9148-97bed3f52a37",
        "colab": {
          "base_uri": "https://localhost:8080/",
          "height": 421
        }
      },
      "source": [
        "table = pd.pivot_table(data_3, values='PRODUCT_CATEGORY', index=['CLASS_ORDER'],\n",
        "                    columns=['OWNER_GENDER'], aggfunc='count')\n",
        "table"
      ],
      "execution_count": 26,
      "outputs": [
        {
          "output_type": "execute_result",
          "data": {
            "text/html": [
              "<div>\n",
              "<style scoped>\n",
              "    .dataframe tbody tr th:only-of-type {\n",
              "        vertical-align: middle;\n",
              "    }\n",
              "\n",
              "    .dataframe tbody tr th {\n",
              "        vertical-align: top;\n",
              "    }\n",
              "\n",
              "    .dataframe thead th {\n",
              "        text-align: right;\n",
              "    }\n",
              "</style>\n",
              "<table border=\"1\" class=\"dataframe\">\n",
              "  <thead>\n",
              "    <tr style=\"text-align: right;\">\n",
              "      <th>OWNER_GENDER</th>\n",
              "      <th>0.0</th>\n",
              "      <th>1.0</th>\n",
              "    </tr>\n",
              "    <tr>\n",
              "      <th>CLASS_ORDER</th>\n",
              "      <th></th>\n",
              "      <th></th>\n",
              "    </tr>\n",
              "  </thead>\n",
              "  <tbody>\n",
              "    <tr>\n",
              "      <th>0</th>\n",
              "      <td>690</td>\n",
              "      <td>405</td>\n",
              "    </tr>\n",
              "    <tr>\n",
              "      <th>1</th>\n",
              "      <td>2616</td>\n",
              "      <td>554</td>\n",
              "    </tr>\n",
              "    <tr>\n",
              "      <th>2</th>\n",
              "      <td>6586</td>\n",
              "      <td>3643</td>\n",
              "    </tr>\n",
              "    <tr>\n",
              "      <th>3</th>\n",
              "      <td>864</td>\n",
              "      <td>808</td>\n",
              "    </tr>\n",
              "    <tr>\n",
              "      <th>4</th>\n",
              "      <td>962</td>\n",
              "      <td>283</td>\n",
              "    </tr>\n",
              "    <tr>\n",
              "      <th>5</th>\n",
              "      <td>75</td>\n",
              "      <td>441</td>\n",
              "    </tr>\n",
              "    <tr>\n",
              "      <th>6</th>\n",
              "      <td>623</td>\n",
              "      <td>441</td>\n",
              "    </tr>\n",
              "    <tr>\n",
              "      <th>7</th>\n",
              "      <td>177</td>\n",
              "      <td>134</td>\n",
              "    </tr>\n",
              "    <tr>\n",
              "      <th>8</th>\n",
              "      <td>33</td>\n",
              "      <td>45</td>\n",
              "    </tr>\n",
              "    <tr>\n",
              "      <th>9</th>\n",
              "      <td>54</td>\n",
              "      <td>95</td>\n",
              "    </tr>\n",
              "    <tr>\n",
              "      <th>10</th>\n",
              "      <td>910</td>\n",
              "      <td>313</td>\n",
              "    </tr>\n",
              "  </tbody>\n",
              "</table>\n",
              "</div>"
            ],
            "text/plain": [
              "OWNER_GENDER   0.0   1.0\n",
              "CLASS_ORDER             \n",
              "0              690   405\n",
              "1             2616   554\n",
              "2             6586  3643\n",
              "3              864   808\n",
              "4              962   283\n",
              "5               75   441\n",
              "6              623   441\n",
              "7              177   134\n",
              "8               33    45\n",
              "9               54    95\n",
              "10             910   313"
            ]
          },
          "metadata": {
            "tags": []
          },
          "execution_count": 26
        }
      ]
    },
    {
      "cell_type": "code",
      "metadata": {
        "id": "JSgdXkJ4Fmr9",
        "colab_type": "code",
        "colab": {
          "base_uri": "https://localhost:8080/",
          "height": 561
        },
        "outputId": "d078b1c6-244a-4b26-ef38-1526898c29e5"
      },
      "source": [
        "top_basic = data_3[data_3['COVER_TYPE'] =='Basic'].PRODUCT_CODE.value_counts().head(30) # most purchased basic 'product code'\n",
        "print(type(top_basic.index[0]))\n",
        "top_basic"
      ],
      "execution_count": 27,
      "outputs": [
        {
          "output_type": "stream",
          "text": [
            "<class 'str'>\n"
          ],
          "name": "stdout"
        },
        {
          "output_type": "execute_result",
          "data": {
            "text/plain": [
              "2,163    2233\n",
              "2,161    1560\n",
              "2,127     762\n",
              "2,114     714\n",
              "2,258     614\n",
              "2,174     489\n",
              "2,283     344\n",
              "2,124     310\n",
              "2,413     301\n",
              "2,198     297\n",
              "2,414     279\n",
              "2,164     253\n",
              "2,171     212\n",
              "2,055     180\n",
              "2,211     176\n",
              "2,054     165\n",
              "2,104     161\n",
              "2,115     141\n",
              "2,209     127\n",
              "2,162     120\n",
              "2,287     112\n",
              "2,237     106\n",
              "2,282     106\n",
              "2,401     105\n",
              "2,119     105\n",
              "2,128      98\n",
              "2,350      93\n",
              "2,179      92\n",
              "2,284      90\n",
              "2,229      90\n",
              "Name: PRODUCT_CODE, dtype: int64"
            ]
          },
          "metadata": {
            "tags": []
          },
          "execution_count": 27
        }
      ]
    },
    {
      "cell_type": "markdown",
      "metadata": {
        "id": "oYv4qN0mC_2R",
        "colab_type": "text"
      },
      "source": [
        "##  segmenting customers based on most purchased basic product code\n",
        "\n"
      ]
    },
    {
      "cell_type": "code",
      "metadata": {
        "id": "2qlGh-zpC_Qq",
        "colab_type": "code",
        "colab": {}
      },
      "source": [
        "from sklearn.cluster import KMeans\n",
        "from sklearn import metrics\n",
        "from scipy.spatial.distance import cdist\n"
      ],
      "execution_count": 0,
      "outputs": []
    },
    {
      "cell_type": "code",
      "metadata": {
        "id": "nsoyYfkvEUpQ",
        "colab_type": "code",
        "colab": {
          "base_uri": "https://localhost:8080/",
          "height": 519
        },
        "outputId": "1bf63116-015c-4124-962e-e5a15d650de1"
      },
      "source": [
        "buyer_related = data_3[['BUYER_ID' ,'OWNER_AGE', 'OWNER_GENDER','CLASS_ORDER', 'PRODUCT_CATEGORY','PRODUCT_CODE','OWNER_OCCUPATION']]\n",
        "buyer_related.groupby(['PRODUCT_CATEGORY','CLASS_ORDER']).count()[['OWNER_GENDER']].unstack(0).plot.bar(figsize=(10,8))"
      ],
      "execution_count": 29,
      "outputs": [
        {
          "output_type": "execute_result",
          "data": {
            "text/plain": [
              "<matplotlib.axes._subplots.AxesSubplot at 0x7f88149b5ac8>"
            ]
          },
          "metadata": {
            "tags": []
          },
          "execution_count": 29
        },
        {
          "output_type": "display_data",
          "data": {
            "image/png": "[encoded data removed]",
            "text/plain": [
              "<Figure size 720x576 with 1 Axes>"
            ]
          },
          "metadata": {
            "tags": []
          }
        }
      ]
    },
    {
      "cell_type": "code",
      "metadata": {
        "id": "VEC_sXHyA-jg",
        "colab_type": "code",
        "outputId": "ce230267-ce74-4bd9-e5cf-3504ba1dfb4f",
        "colab": {
          "base_uri": "https://localhost:8080/",
          "height": 204
        }
      },
      "source": [
        "category_product_code = buyer_related[['PRODUCT_CATEGORY','PRODUCT_CODE']]\n",
        "category_product_code.head()"
      ],
      "execution_count": 30,
      "outputs": [
        {
          "output_type": "execute_result",
          "data": {
            "text/html": [
              "<div>\n",
              "<style scoped>\n",
              "    .dataframe tbody tr th:only-of-type {\n",
              "        vertical-align: middle;\n",
              "    }\n",
              "\n",
              "    .dataframe tbody tr th {\n",
              "        vertical-align: top;\n",
              "    }\n",
              "\n",
              "    .dataframe thead th {\n",
              "        text-align: right;\n",
              "    }\n",
              "</style>\n",
              "<table border=\"1\" class=\"dataframe\">\n",
              "  <thead>\n",
              "    <tr style=\"text-align: right;\">\n",
              "      <th></th>\n",
              "      <th>PRODUCT_CATEGORY</th>\n",
              "      <th>PRODUCT_CODE</th>\n",
              "    </tr>\n",
              "  </thead>\n",
              "  <tbody>\n",
              "    <tr>\n",
              "      <th>0</th>\n",
              "      <td>Investment</td>\n",
              "      <td>2,161</td>\n",
              "    </tr>\n",
              "    <tr>\n",
              "      <th>1</th>\n",
              "      <td>Retirement</td>\n",
              "      <td>2,198</td>\n",
              "    </tr>\n",
              "    <tr>\n",
              "      <th>2</th>\n",
              "      <td>Investment</td>\n",
              "      <td>2,163</td>\n",
              "    </tr>\n",
              "    <tr>\n",
              "      <th>3</th>\n",
              "      <td>Retirement</td>\n",
              "      <td>2,127</td>\n",
              "    </tr>\n",
              "    <tr>\n",
              "      <th>4</th>\n",
              "      <td>Protection</td>\n",
              "      <td>1,476</td>\n",
              "    </tr>\n",
              "  </tbody>\n",
              "</table>\n",
              "</div>"
            ],
            "text/plain": [
              "  PRODUCT_CATEGORY PRODUCT_CODE\n",
              "0       Investment        2,161\n",
              "1       Retirement        2,198\n",
              "2       Investment        2,163\n",
              "3       Retirement        2,127\n",
              "4       Protection        1,476"
            ]
          },
          "metadata": {
            "tags": []
          },
          "execution_count": 30
        }
      ]
    },
    {
      "cell_type": "code",
      "metadata": {
        "id": "lj9Me4FAJYDV",
        "colab_type": "code",
        "colab": {
          "base_uri": "https://localhost:8080/",
          "height": 235
        },
        "outputId": "f2f482f9-c9c0-4073-94e6-36f85a580361"
      },
      "source": [
        "category_count = category_product_code.groupby('PRODUCT_CATEGORY').nunique()\n",
        "category_count "
      ],
      "execution_count": 31,
      "outputs": [
        {
          "output_type": "execute_result",
          "data": {
            "text/html": [
              "<div>\n",
              "<style scoped>\n",
              "    .dataframe tbody tr th:only-of-type {\n",
              "        vertical-align: middle;\n",
              "    }\n",
              "\n",
              "    .dataframe tbody tr th {\n",
              "        vertical-align: top;\n",
              "    }\n",
              "\n",
              "    .dataframe thead th {\n",
              "        text-align: right;\n",
              "    }\n",
              "</style>\n",
              "<table border=\"1\" class=\"dataframe\">\n",
              "  <thead>\n",
              "    <tr style=\"text-align: right;\">\n",
              "      <th></th>\n",
              "      <th>PRODUCT_CATEGORY</th>\n",
              "      <th>PRODUCT_CODE</th>\n",
              "    </tr>\n",
              "    <tr>\n",
              "      <th>PRODUCT_CATEGORY</th>\n",
              "      <th></th>\n",
              "      <th></th>\n",
              "    </tr>\n",
              "  </thead>\n",
              "  <tbody>\n",
              "    <tr>\n",
              "      <th>Health</th>\n",
              "      <td>1</td>\n",
              "      <td>25</td>\n",
              "    </tr>\n",
              "    <tr>\n",
              "      <th>Investment</th>\n",
              "      <td>1</td>\n",
              "      <td>57</td>\n",
              "    </tr>\n",
              "    <tr>\n",
              "      <th>Protection</th>\n",
              "      <td>1</td>\n",
              "      <td>195</td>\n",
              "    </tr>\n",
              "    <tr>\n",
              "      <th>Retirement</th>\n",
              "      <td>1</td>\n",
              "      <td>55</td>\n",
              "    </tr>\n",
              "    <tr>\n",
              "      <th>Savings</th>\n",
              "      <td>1</td>\n",
              "      <td>55</td>\n",
              "    </tr>\n",
              "  </tbody>\n",
              "</table>\n",
              "</div>"
            ],
            "text/plain": [
              "                  PRODUCT_CATEGORY  PRODUCT_CODE\n",
              "PRODUCT_CATEGORY                                \n",
              "Health                           1            25\n",
              "Investment                       1            57\n",
              "Protection                       1           195\n",
              "Retirement                       1            55\n",
              "Savings                          1            55"
            ]
          },
          "metadata": {
            "tags": []
          },
          "execution_count": 31
        }
      ]
    },
    {
      "cell_type": "code",
      "metadata": {
        "id": "VJHl8QVFL67p",
        "colab_type": "code",
        "colab": {}
      },
      "source": [
        "basic_product_purchase = pd.DataFrame()\n",
        "for i in range(len(buyer_related)):\n",
        "    if buyer_related.loc[i,'PRODUCT_CODE'] in top_basic.index:\n",
        "        basic_product_purchase = basic_product_purchase.append(buyer_related.iloc[i,:], ignore_index=True)"
      ],
      "execution_count": 0,
      "outputs": []
    },
    {
      "cell_type": "code",
      "metadata": {
        "id": "ivf8hS-iM4Dk",
        "colab_type": "code",
        "colab": {
          "base_uri": "https://localhost:8080/",
          "height": 258
        },
        "outputId": "5a2506c5-3d17-41a9-e6c0-8ca13ec45e17"
      },
      "source": [
        "print(len(basic_product_purchase))\n",
        "print(len(buyer_related))\n",
        "basic_product_purchase.head()"
      ],
      "execution_count": 33,
      "outputs": [
        {
          "output_type": "stream",
          "text": [
            "10435\n",
            "20752\n"
          ],
          "name": "stdout"
        },
        {
          "output_type": "execute_result",
          "data": {
            "text/html": [
              "<div>\n",
              "<style scoped>\n",
              "    .dataframe tbody tr th:only-of-type {\n",
              "        vertical-align: middle;\n",
              "    }\n",
              "\n",
              "    .dataframe tbody tr th {\n",
              "        vertical-align: top;\n",
              "    }\n",
              "\n",
              "    .dataframe thead th {\n",
              "        text-align: right;\n",
              "    }\n",
              "</style>\n",
              "<table border=\"1\" class=\"dataframe\">\n",
              "  <thead>\n",
              "    <tr style=\"text-align: right;\">\n",
              "      <th></th>\n",
              "      <th>BUYER_ID</th>\n",
              "      <th>CLASS_ORDER</th>\n",
              "      <th>OWNER_AGE</th>\n",
              "      <th>OWNER_GENDER</th>\n",
              "      <th>OWNER_OCCUPATION</th>\n",
              "      <th>PRODUCT_CATEGORY</th>\n",
              "      <th>PRODUCT_CODE</th>\n",
              "    </tr>\n",
              "  </thead>\n",
              "  <tbody>\n",
              "    <tr>\n",
              "      <th>0</th>\n",
              "      <td>PART_ID_10751</td>\n",
              "      <td>0.0</td>\n",
              "      <td>34.0</td>\n",
              "      <td>0.0</td>\n",
              "      <td>2588.0</td>\n",
              "      <td>Investment</td>\n",
              "      <td>2,161</td>\n",
              "    </tr>\n",
              "    <tr>\n",
              "      <th>1</th>\n",
              "      <td>PART_ID_8104</td>\n",
              "      <td>4.0</td>\n",
              "      <td>53.0</td>\n",
              "      <td>0.0</td>\n",
              "      <td>1506.0</td>\n",
              "      <td>Retirement</td>\n",
              "      <td>2,198</td>\n",
              "    </tr>\n",
              "    <tr>\n",
              "      <th>2</th>\n",
              "      <td>PART_ID_15437</td>\n",
              "      <td>0.0</td>\n",
              "      <td>59.0</td>\n",
              "      <td>0.0</td>\n",
              "      <td>1807.0</td>\n",
              "      <td>Investment</td>\n",
              "      <td>2,163</td>\n",
              "    </tr>\n",
              "    <tr>\n",
              "      <th>3</th>\n",
              "      <td>PART_ID_578</td>\n",
              "      <td>10.0</td>\n",
              "      <td>50.0</td>\n",
              "      <td>0.0</td>\n",
              "      <td>299.0</td>\n",
              "      <td>Retirement</td>\n",
              "      <td>2,127</td>\n",
              "    </tr>\n",
              "    <tr>\n",
              "      <th>4</th>\n",
              "      <td>PART_ID_10642</td>\n",
              "      <td>0.0</td>\n",
              "      <td>60.0</td>\n",
              "      <td>1.0</td>\n",
              "      <td>2895.0</td>\n",
              "      <td>Investment</td>\n",
              "      <td>2,163</td>\n",
              "    </tr>\n",
              "  </tbody>\n",
              "</table>\n",
              "</div>"
            ],
            "text/plain": [
              "        BUYER_ID  CLASS_ORDER  ...  PRODUCT_CATEGORY  PRODUCT_CODE\n",
              "0  PART_ID_10751          0.0  ...        Investment         2,161\n",
              "1   PART_ID_8104          4.0  ...        Retirement         2,198\n",
              "2  PART_ID_15437          0.0  ...        Investment         2,163\n",
              "3    PART_ID_578         10.0  ...        Retirement         2,127\n",
              "4  PART_ID_10642          0.0  ...        Investment         2,163\n",
              "\n",
              "[5 rows x 7 columns]"
            ]
          },
          "metadata": {
            "tags": []
          },
          "execution_count": 33
        }
      ]
    },
    {
      "cell_type": "code",
      "metadata": {
        "id": "ImoWyE2mtJoH",
        "colab_type": "code",
        "colab": {}
      },
      "source": [
        ""
      ],
      "execution_count": 0,
      "outputs": []
    },
    {
      "cell_type": "code",
      "metadata": {
        "id": "rWpZayAbOsa-",
        "colab_type": "code",
        "colab": {}
      },
      "source": [
        "buyers_X = basic_product_purchase.drop(columns=['PRODUCT_CATEGORY', 'PRODUCT_CODE','BUYER_ID'])"
      ],
      "execution_count": 0,
      "outputs": []
    },
    {
      "cell_type": "code",
      "metadata": {
        "id": "-_lcB0moDcdx",
        "colab_type": "code",
        "colab": {
          "base_uri": "https://localhost:8080/",
          "height": 295
        },
        "outputId": "d074dc3f-8028-4b63-d776-5455e810906d"
      },
      "source": [
        "distortions = [] \n",
        "inertias = [] \n",
        "mapping1 = {} \n",
        "mapping2 = {} \n",
        "K = range(1,20) \n",
        "  \n",
        "for k in K: \n",
        "    #Building and fitting the model \n",
        "    kmeanModel = KMeans(n_clusters=k).fit(buyers_X) \n",
        "    kmeanModel.fit(buyers_X)     \n",
        "      \n",
        "    distortions.append(sum(np.min(cdist(buyers_X, kmeanModel.cluster_centers_, \n",
        "                      'euclidean'),axis=1)) / buyers_X.shape[0]) \n",
        "    inertias.append(kmeanModel.inertia_) \n",
        "  \n",
        "    mapping1[k] = sum(np.min(cdist(buyers_X, kmeanModel.cluster_centers_, \n",
        "                 'euclidean'),axis=1)) / buyers_X.shape[0] \n",
        "    mapping2[k] = kmeanModel.inertia_ \n",
        "\n",
        "plt.plot(K, distortions, 'bx-') \n",
        "plt.xlabel('Values of K') \n",
        "plt.ylabel('contributions') \n",
        "plt.title('The Elbow Method') \n",
        "plt.show() "
      ],
      "execution_count": 35,
      "outputs": [
        {
          "output_type": "display_data",
          "data": {
            "image/png": "[encoded data removed]",
            "text/plain": [
              "<Figure size 432x288 with 1 Axes>"
            ]
          },
          "metadata": {
            "tags": []
          }
        }
      ]
    },
    {
      "cell_type": "markdown",
      "metadata": {
        "id": "4gt8Nx71ILbj",
        "colab_type": "text"
      },
      "source": [
        "#### elbow method shows 5 groups might be a good start."
      ]
    },
    {
      "cell_type": "code",
      "metadata": {
        "id": "dH6w6bsFDiMg",
        "colab_type": "code",
        "colab": {}
      },
      "source": [
        "kmeanModel = KMeans(n_clusters=6).fit(buyers_X)  \n",
        "to_be_predicted = buyer_related.drop(columns=['PRODUCT_CATEGORY', 'PRODUCT_CODE','BUYER_ID'])\n",
        "to_be_predicted = to_be_predicted[buyers_X.columns]\n",
        "segment_pred = kmeanModel.predict(to_be_predicted)"
      ],
      "execution_count": 0,
      "outputs": []
    },
    {
      "cell_type": "code",
      "metadata": {
        "id": "6r8ZF-IrF_Ry",
        "colab_type": "code",
        "colab": {}
      },
      "source": [
        "buyer_related_with_seg = buyer_related.assign(segmentation=segment_pred)"
      ],
      "execution_count": 0,
      "outputs": []
    },
    {
      "cell_type": "code",
      "metadata": {
        "id": "uBZmVMKMPZw-",
        "colab_type": "code",
        "colab": {
          "base_uri": "https://localhost:8080/",
          "height": 224
        },
        "outputId": "553e8403-3210-4b27-9d84-499b12ec6cd7"
      },
      "source": [
        "buyer_related_with_seg.head()"
      ],
      "execution_count": 38,
      "outputs": [
        {
          "output_type": "execute_result",
          "data": {
            "text/html": [
              "<div>\n",
              "<style scoped>\n",
              "    .dataframe tbody tr th:only-of-type {\n",
              "        vertical-align: middle;\n",
              "    }\n",
              "\n",
              "    .dataframe tbody tr th {\n",
              "        vertical-align: top;\n",
              "    }\n",
              "\n",
              "    .dataframe thead th {\n",
              "        text-align: right;\n",
              "    }\n",
              "</style>\n",
              "<table border=\"1\" class=\"dataframe\">\n",
              "  <thead>\n",
              "    <tr style=\"text-align: right;\">\n",
              "      <th></th>\n",
              "      <th>BUYER_ID</th>\n",
              "      <th>OWNER_AGE</th>\n",
              "      <th>OWNER_GENDER</th>\n",
              "      <th>CLASS_ORDER</th>\n",
              "      <th>PRODUCT_CATEGORY</th>\n",
              "      <th>PRODUCT_CODE</th>\n",
              "      <th>OWNER_OCCUPATION</th>\n",
              "      <th>segmentation</th>\n",
              "    </tr>\n",
              "  </thead>\n",
              "  <tbody>\n",
              "    <tr>\n",
              "      <th>0</th>\n",
              "      <td>PART_ID_10751</td>\n",
              "      <td>34.0</td>\n",
              "      <td>0.0</td>\n",
              "      <td>0</td>\n",
              "      <td>Investment</td>\n",
              "      <td>2,161</td>\n",
              "      <td>2588</td>\n",
              "      <td>5</td>\n",
              "    </tr>\n",
              "    <tr>\n",
              "      <th>1</th>\n",
              "      <td>PART_ID_8104</td>\n",
              "      <td>53.0</td>\n",
              "      <td>0.0</td>\n",
              "      <td>4</td>\n",
              "      <td>Retirement</td>\n",
              "      <td>2,198</td>\n",
              "      <td>1506</td>\n",
              "      <td>2</td>\n",
              "    </tr>\n",
              "    <tr>\n",
              "      <th>2</th>\n",
              "      <td>PART_ID_15437</td>\n",
              "      <td>59.0</td>\n",
              "      <td>0.0</td>\n",
              "      <td>0</td>\n",
              "      <td>Investment</td>\n",
              "      <td>2,163</td>\n",
              "      <td>1807</td>\n",
              "      <td>2</td>\n",
              "    </tr>\n",
              "    <tr>\n",
              "      <th>3</th>\n",
              "      <td>PART_ID_578</td>\n",
              "      <td>50.0</td>\n",
              "      <td>0.0</td>\n",
              "      <td>10</td>\n",
              "      <td>Retirement</td>\n",
              "      <td>2,127</td>\n",
              "      <td>299</td>\n",
              "      <td>1</td>\n",
              "    </tr>\n",
              "    <tr>\n",
              "      <th>4</th>\n",
              "      <td>PART_ID_578</td>\n",
              "      <td>50.0</td>\n",
              "      <td>0.0</td>\n",
              "      <td>10</td>\n",
              "      <td>Protection</td>\n",
              "      <td>1,476</td>\n",
              "      <td>299</td>\n",
              "      <td>1</td>\n",
              "    </tr>\n",
              "  </tbody>\n",
              "</table>\n",
              "</div>"
            ],
            "text/plain": [
              "        BUYER_ID  OWNER_AGE  ...  OWNER_OCCUPATION  segmentation\n",
              "0  PART_ID_10751       34.0  ...              2588             5\n",
              "1   PART_ID_8104       53.0  ...              1506             2\n",
              "2  PART_ID_15437       59.0  ...              1807             2\n",
              "3    PART_ID_578       50.0  ...               299             1\n",
              "4    PART_ID_578       50.0  ...               299             1\n",
              "\n",
              "[5 rows x 8 columns]"
            ]
          },
          "metadata": {
            "tags": []
          },
          "execution_count": 38
        }
      ]
    },
    {
      "cell_type": "code",
      "metadata": {
        "id": "qSvZPhQUyoQc",
        "colab_type": "code",
        "colab": {}
      },
      "source": [
        "group_seg_product = buyer_related_with_seg.groupby(['segmentation','PRODUCT_CATEGORY']).nunique().drop(columns=['segmentation','PRODUCT_CATEGORY']).reset_index()\n",
        "rec_order = group_seg_product.sort_values(['segmentation','BUYER_ID'],ascending=False).groupby('segmentation').head(len(group_seg_product))"
      ],
      "execution_count": 0,
      "outputs": []
    },
    {
      "cell_type": "code",
      "metadata": {
        "id": "7a69YF8hu-ge",
        "colab_type": "code",
        "colab": {
          "base_uri": "https://localhost:8080/",
          "height": 241
        },
        "outputId": "3e0239aa-46ea-4ccd-9814-476705c668dd"
      },
      "source": [
        "print(np.resize(np.arange(5),5*6))\n",
        "rec_order.head()"
      ],
      "execution_count": 40,
      "outputs": [
        {
          "output_type": "stream",
          "text": [
            "[0 1 2 3 4 0 1 2 3 4 0 1 2 3 4 0 1 2 3 4 0 1 2 3 4 0 1 2 3 4]\n"
          ],
          "name": "stdout"
        },
        {
          "output_type": "execute_result",
          "data": {
            "text/html": [
              "<div>\n",
              "<style scoped>\n",
              "    .dataframe tbody tr th:only-of-type {\n",
              "        vertical-align: middle;\n",
              "    }\n",
              "\n",
              "    .dataframe tbody tr th {\n",
              "        vertical-align: top;\n",
              "    }\n",
              "\n",
              "    .dataframe thead th {\n",
              "        text-align: right;\n",
              "    }\n",
              "</style>\n",
              "<table border=\"1\" class=\"dataframe\">\n",
              "  <thead>\n",
              "    <tr style=\"text-align: right;\">\n",
              "      <th></th>\n",
              "      <th>segmentation</th>\n",
              "      <th>PRODUCT_CATEGORY</th>\n",
              "      <th>BUYER_ID</th>\n",
              "      <th>OWNER_AGE</th>\n",
              "      <th>OWNER_GENDER</th>\n",
              "      <th>CLASS_ORDER</th>\n",
              "      <th>PRODUCT_CODE</th>\n",
              "      <th>OWNER_OCCUPATION</th>\n",
              "    </tr>\n",
              "  </thead>\n",
              "  <tbody>\n",
              "    <tr>\n",
              "      <th>26</th>\n",
              "      <td>5</td>\n",
              "      <td>Investment</td>\n",
              "      <td>813</td>\n",
              "      <td>66</td>\n",
              "      <td>2</td>\n",
              "      <td>11</td>\n",
              "      <td>42</td>\n",
              "      <td>324</td>\n",
              "    </tr>\n",
              "    <tr>\n",
              "      <th>27</th>\n",
              "      <td>5</td>\n",
              "      <td>Protection</td>\n",
              "      <td>707</td>\n",
              "      <td>56</td>\n",
              "      <td>2</td>\n",
              "      <td>11</td>\n",
              "      <td>101</td>\n",
              "      <td>297</td>\n",
              "    </tr>\n",
              "    <tr>\n",
              "      <th>28</th>\n",
              "      <td>5</td>\n",
              "      <td>Retirement</td>\n",
              "      <td>511</td>\n",
              "      <td>52</td>\n",
              "      <td>2</td>\n",
              "      <td>10</td>\n",
              "      <td>39</td>\n",
              "      <td>226</td>\n",
              "    </tr>\n",
              "    <tr>\n",
              "      <th>29</th>\n",
              "      <td>5</td>\n",
              "      <td>Savings</td>\n",
              "      <td>115</td>\n",
              "      <td>43</td>\n",
              "      <td>2</td>\n",
              "      <td>9</td>\n",
              "      <td>26</td>\n",
              "      <td>69</td>\n",
              "    </tr>\n",
              "    <tr>\n",
              "      <th>25</th>\n",
              "      <td>5</td>\n",
              "      <td>Health</td>\n",
              "      <td>6</td>\n",
              "      <td>6</td>\n",
              "      <td>1</td>\n",
              "      <td>3</td>\n",
              "      <td>8</td>\n",
              "      <td>5</td>\n",
              "    </tr>\n",
              "  </tbody>\n",
              "</table>\n",
              "</div>"
            ],
            "text/plain": [
              "    segmentation PRODUCT_CATEGORY  ...  PRODUCT_CODE  OWNER_OCCUPATION\n",
              "26             5       Investment  ...            42               324\n",
              "27             5       Protection  ...           101               297\n",
              "28             5       Retirement  ...            39               226\n",
              "29             5          Savings  ...            26                69\n",
              "25             5           Health  ...             8                 5\n",
              "\n",
              "[5 rows x 8 columns]"
            ]
          },
          "metadata": {
            "tags": []
          },
          "execution_count": 40
        }
      ]
    },
    {
      "cell_type": "code",
      "metadata": {
        "id": "76nB6kw8CnBo",
        "colab_type": "code",
        "colab": {}
      },
      "source": [
        "rec_order = rec_order.assign(recommendation_order = np.resize(np.arange(5),5*6))"
      ],
      "execution_count": 0,
      "outputs": []
    },
    {
      "cell_type": "code",
      "metadata": {
        "id": "b359_BEKu7V4",
        "colab_type": "code",
        "colab": {}
      },
      "source": [
        "rec_order.reset_index(drop=True, inplace=True)"
      ],
      "execution_count": 0,
      "outputs": []
    },
    {
      "cell_type": "code",
      "metadata": {
        "id": "943ztM_qiLR1",
        "colab_type": "code",
        "colab": {
          "base_uri": "https://localhost:8080/",
          "height": 999
        },
        "outputId": "f883bcae-f32f-4d06-a075-e7052f277a1f"
      },
      "source": [
        "rec_order"
      ],
      "execution_count": 43,
      "outputs": [
        {
          "output_type": "execute_result",
          "data": {
            "text/html": [
              "<div>\n",
              "<style scoped>\n",
              "    .dataframe tbody tr th:only-of-type {\n",
              "        vertical-align: middle;\n",
              "    }\n",
              "\n",
              "    .dataframe tbody tr th {\n",
              "        vertical-align: top;\n",
              "    }\n",
              "\n",
              "    .dataframe thead th {\n",
              "        text-align: right;\n",
              "    }\n",
              "</style>\n",
              "<table border=\"1\" class=\"dataframe\">\n",
              "  <thead>\n",
              "    <tr style=\"text-align: right;\">\n",
              "      <th></th>\n",
              "      <th>segmentation</th>\n",
              "      <th>PRODUCT_CATEGORY</th>\n",
              "      <th>BUYER_ID</th>\n",
              "      <th>OWNER_AGE</th>\n",
              "      <th>OWNER_GENDER</th>\n",
              "      <th>CLASS_ORDER</th>\n",
              "      <th>PRODUCT_CODE</th>\n",
              "      <th>OWNER_OCCUPATION</th>\n",
              "      <th>recommendation_order</th>\n",
              "    </tr>\n",
              "  </thead>\n",
              "  <tbody>\n",
              "    <tr>\n",
              "      <th>0</th>\n",
              "      <td>5</td>\n",
              "      <td>Investment</td>\n",
              "      <td>813</td>\n",
              "      <td>66</td>\n",
              "      <td>2</td>\n",
              "      <td>11</td>\n",
              "      <td>42</td>\n",
              "      <td>324</td>\n",
              "      <td>0</td>\n",
              "    </tr>\n",
              "    <tr>\n",
              "      <th>1</th>\n",
              "      <td>5</td>\n",
              "      <td>Protection</td>\n",
              "      <td>707</td>\n",
              "      <td>56</td>\n",
              "      <td>2</td>\n",
              "      <td>11</td>\n",
              "      <td>101</td>\n",
              "      <td>297</td>\n",
              "      <td>1</td>\n",
              "    </tr>\n",
              "    <tr>\n",
              "      <th>2</th>\n",
              "      <td>5</td>\n",
              "      <td>Retirement</td>\n",
              "      <td>511</td>\n",
              "      <td>52</td>\n",
              "      <td>2</td>\n",
              "      <td>10</td>\n",
              "      <td>39</td>\n",
              "      <td>226</td>\n",
              "      <td>2</td>\n",
              "    </tr>\n",
              "    <tr>\n",
              "      <th>3</th>\n",
              "      <td>5</td>\n",
              "      <td>Savings</td>\n",
              "      <td>115</td>\n",
              "      <td>43</td>\n",
              "      <td>2</td>\n",
              "      <td>9</td>\n",
              "      <td>26</td>\n",
              "      <td>69</td>\n",
              "      <td>3</td>\n",
              "    </tr>\n",
              "    <tr>\n",
              "      <th>4</th>\n",
              "      <td>5</td>\n",
              "      <td>Health</td>\n",
              "      <td>6</td>\n",
              "      <td>6</td>\n",
              "      <td>1</td>\n",
              "      <td>3</td>\n",
              "      <td>8</td>\n",
              "      <td>5</td>\n",
              "      <td>4</td>\n",
              "    </tr>\n",
              "    <tr>\n",
              "      <th>5</th>\n",
              "      <td>4</td>\n",
              "      <td>Investment</td>\n",
              "      <td>686</td>\n",
              "      <td>56</td>\n",
              "      <td>2</td>\n",
              "      <td>11</td>\n",
              "      <td>39</td>\n",
              "      <td>252</td>\n",
              "      <td>0</td>\n",
              "    </tr>\n",
              "    <tr>\n",
              "      <th>6</th>\n",
              "      <td>4</td>\n",
              "      <td>Protection</td>\n",
              "      <td>680</td>\n",
              "      <td>53</td>\n",
              "      <td>2</td>\n",
              "      <td>11</td>\n",
              "      <td>109</td>\n",
              "      <td>300</td>\n",
              "      <td>1</td>\n",
              "    </tr>\n",
              "    <tr>\n",
              "      <th>7</th>\n",
              "      <td>4</td>\n",
              "      <td>Retirement</td>\n",
              "      <td>523</td>\n",
              "      <td>52</td>\n",
              "      <td>2</td>\n",
              "      <td>11</td>\n",
              "      <td>42</td>\n",
              "      <td>246</td>\n",
              "      <td>2</td>\n",
              "    </tr>\n",
              "    <tr>\n",
              "      <th>8</th>\n",
              "      <td>4</td>\n",
              "      <td>Savings</td>\n",
              "      <td>134</td>\n",
              "      <td>41</td>\n",
              "      <td>2</td>\n",
              "      <td>10</td>\n",
              "      <td>33</td>\n",
              "      <td>76</td>\n",
              "      <td>3</td>\n",
              "    </tr>\n",
              "    <tr>\n",
              "      <th>9</th>\n",
              "      <td>4</td>\n",
              "      <td>Health</td>\n",
              "      <td>6</td>\n",
              "      <td>6</td>\n",
              "      <td>2</td>\n",
              "      <td>4</td>\n",
              "      <td>6</td>\n",
              "      <td>5</td>\n",
              "      <td>4</td>\n",
              "    </tr>\n",
              "    <tr>\n",
              "      <th>10</th>\n",
              "      <td>3</td>\n",
              "      <td>Investment</td>\n",
              "      <td>690</td>\n",
              "      <td>60</td>\n",
              "      <td>2</td>\n",
              "      <td>11</td>\n",
              "      <td>44</td>\n",
              "      <td>352</td>\n",
              "      <td>0</td>\n",
              "    </tr>\n",
              "    <tr>\n",
              "      <th>11</th>\n",
              "      <td>3</td>\n",
              "      <td>Protection</td>\n",
              "      <td>615</td>\n",
              "      <td>55</td>\n",
              "      <td>2</td>\n",
              "      <td>11</td>\n",
              "      <td>113</td>\n",
              "      <td>339</td>\n",
              "      <td>1</td>\n",
              "    </tr>\n",
              "    <tr>\n",
              "      <th>12</th>\n",
              "      <td>3</td>\n",
              "      <td>Retirement</td>\n",
              "      <td>431</td>\n",
              "      <td>47</td>\n",
              "      <td>2</td>\n",
              "      <td>11</td>\n",
              "      <td>37</td>\n",
              "      <td>269</td>\n",
              "      <td>2</td>\n",
              "    </tr>\n",
              "    <tr>\n",
              "      <th>13</th>\n",
              "      <td>3</td>\n",
              "      <td>Savings</td>\n",
              "      <td>123</td>\n",
              "      <td>43</td>\n",
              "      <td>2</td>\n",
              "      <td>8</td>\n",
              "      <td>29</td>\n",
              "      <td>91</td>\n",
              "      <td>3</td>\n",
              "    </tr>\n",
              "    <tr>\n",
              "      <th>14</th>\n",
              "      <td>3</td>\n",
              "      <td>Health</td>\n",
              "      <td>6</td>\n",
              "      <td>4</td>\n",
              "      <td>2</td>\n",
              "      <td>2</td>\n",
              "      <td>6</td>\n",
              "      <td>6</td>\n",
              "      <td>4</td>\n",
              "    </tr>\n",
              "    <tr>\n",
              "      <th>15</th>\n",
              "      <td>2</td>\n",
              "      <td>Investment</td>\n",
              "      <td>1090</td>\n",
              "      <td>61</td>\n",
              "      <td>2</td>\n",
              "      <td>11</td>\n",
              "      <td>45</td>\n",
              "      <td>319</td>\n",
              "      <td>0</td>\n",
              "    </tr>\n",
              "    <tr>\n",
              "      <th>16</th>\n",
              "      <td>2</td>\n",
              "      <td>Protection</td>\n",
              "      <td>945</td>\n",
              "      <td>55</td>\n",
              "      <td>2</td>\n",
              "      <td>11</td>\n",
              "      <td>127</td>\n",
              "      <td>332</td>\n",
              "      <td>1</td>\n",
              "    </tr>\n",
              "    <tr>\n",
              "      <th>17</th>\n",
              "      <td>2</td>\n",
              "      <td>Retirement</td>\n",
              "      <td>745</td>\n",
              "      <td>53</td>\n",
              "      <td>2</td>\n",
              "      <td>11</td>\n",
              "      <td>43</td>\n",
              "      <td>268</td>\n",
              "      <td>2</td>\n",
              "    </tr>\n",
              "    <tr>\n",
              "      <th>18</th>\n",
              "      <td>2</td>\n",
              "      <td>Savings</td>\n",
              "      <td>189</td>\n",
              "      <td>47</td>\n",
              "      <td>2</td>\n",
              "      <td>10</td>\n",
              "      <td>36</td>\n",
              "      <td>90</td>\n",
              "      <td>3</td>\n",
              "    </tr>\n",
              "    <tr>\n",
              "      <th>19</th>\n",
              "      <td>2</td>\n",
              "      <td>Health</td>\n",
              "      <td>15</td>\n",
              "      <td>15</td>\n",
              "      <td>2</td>\n",
              "      <td>6</td>\n",
              "      <td>12</td>\n",
              "      <td>12</td>\n",
              "      <td>4</td>\n",
              "    </tr>\n",
              "    <tr>\n",
              "      <th>20</th>\n",
              "      <td>1</td>\n",
              "      <td>Protection</td>\n",
              "      <td>1894</td>\n",
              "      <td>61</td>\n",
              "      <td>2</td>\n",
              "      <td>11</td>\n",
              "      <td>156</td>\n",
              "      <td>453</td>\n",
              "      <td>0</td>\n",
              "    </tr>\n",
              "    <tr>\n",
              "      <th>21</th>\n",
              "      <td>1</td>\n",
              "      <td>Investment</td>\n",
              "      <td>1882</td>\n",
              "      <td>65</td>\n",
              "      <td>2</td>\n",
              "      <td>10</td>\n",
              "      <td>52</td>\n",
              "      <td>335</td>\n",
              "      <td>1</td>\n",
              "    </tr>\n",
              "    <tr>\n",
              "      <th>22</th>\n",
              "      <td>1</td>\n",
              "      <td>Retirement</td>\n",
              "      <td>1375</td>\n",
              "      <td>56</td>\n",
              "      <td>2</td>\n",
              "      <td>11</td>\n",
              "      <td>50</td>\n",
              "      <td>410</td>\n",
              "      <td>2</td>\n",
              "    </tr>\n",
              "    <tr>\n",
              "      <th>23</th>\n",
              "      <td>1</td>\n",
              "      <td>Savings</td>\n",
              "      <td>323</td>\n",
              "      <td>50</td>\n",
              "      <td>2</td>\n",
              "      <td>9</td>\n",
              "      <td>42</td>\n",
              "      <td>122</td>\n",
              "      <td>3</td>\n",
              "    </tr>\n",
              "    <tr>\n",
              "      <th>24</th>\n",
              "      <td>1</td>\n",
              "      <td>Health</td>\n",
              "      <td>29</td>\n",
              "      <td>21</td>\n",
              "      <td>2</td>\n",
              "      <td>2</td>\n",
              "      <td>14</td>\n",
              "      <td>14</td>\n",
              "      <td>4</td>\n",
              "    </tr>\n",
              "    <tr>\n",
              "      <th>25</th>\n",
              "      <td>0</td>\n",
              "      <td>Investment</td>\n",
              "      <td>1107</td>\n",
              "      <td>69</td>\n",
              "      <td>2</td>\n",
              "      <td>11</td>\n",
              "      <td>42</td>\n",
              "      <td>316</td>\n",
              "      <td>0</td>\n",
              "    </tr>\n",
              "    <tr>\n",
              "      <th>26</th>\n",
              "      <td>0</td>\n",
              "      <td>Protection</td>\n",
              "      <td>542</td>\n",
              "      <td>60</td>\n",
              "      <td>2</td>\n",
              "      <td>11</td>\n",
              "      <td>101</td>\n",
              "      <td>263</td>\n",
              "      <td>1</td>\n",
              "    </tr>\n",
              "    <tr>\n",
              "      <th>27</th>\n",
              "      <td>0</td>\n",
              "      <td>Retirement</td>\n",
              "      <td>356</td>\n",
              "      <td>60</td>\n",
              "      <td>2</td>\n",
              "      <td>11</td>\n",
              "      <td>33</td>\n",
              "      <td>194</td>\n",
              "      <td>2</td>\n",
              "    </tr>\n",
              "    <tr>\n",
              "      <th>28</th>\n",
              "      <td>0</td>\n",
              "      <td>Savings</td>\n",
              "      <td>96</td>\n",
              "      <td>43</td>\n",
              "      <td>2</td>\n",
              "      <td>10</td>\n",
              "      <td>21</td>\n",
              "      <td>61</td>\n",
              "      <td>3</td>\n",
              "    </tr>\n",
              "    <tr>\n",
              "      <th>29</th>\n",
              "      <td>0</td>\n",
              "      <td>Health</td>\n",
              "      <td>7</td>\n",
              "      <td>7</td>\n",
              "      <td>2</td>\n",
              "      <td>4</td>\n",
              "      <td>7</td>\n",
              "      <td>7</td>\n",
              "      <td>4</td>\n",
              "    </tr>\n",
              "  </tbody>\n",
              "</table>\n",
              "</div>"
            ],
            "text/plain": [
              "    segmentation PRODUCT_CATEGORY  ...  OWNER_OCCUPATION  recommendation_order\n",
              "0              5       Investment  ...               324                     0\n",
              "1              5       Protection  ...               297                     1\n",
              "2              5       Retirement  ...               226                     2\n",
              "3              5          Savings  ...                69                     3\n",
              "4              5           Health  ...                 5                     4\n",
              "5              4       Investment  ...               252                     0\n",
              "6              4       Protection  ...               300                     1\n",
              "7              4       Retirement  ...               246                     2\n",
              "8              4          Savings  ...                76                     3\n",
              "9              4           Health  ...                 5                     4\n",
              "10             3       Investment  ...               352                     0\n",
              "11             3       Protection  ...               339                     1\n",
              "12             3       Retirement  ...               269                     2\n",
              "13             3          Savings  ...                91                     3\n",
              "14             3           Health  ...                 6                     4\n",
              "15             2       Investment  ...               319                     0\n",
              "16             2       Protection  ...               332                     1\n",
              "17             2       Retirement  ...               268                     2\n",
              "18             2          Savings  ...                90                     3\n",
              "19             2           Health  ...                12                     4\n",
              "20             1       Protection  ...               453                     0\n",
              "21             1       Investment  ...               335                     1\n",
              "22             1       Retirement  ...               410                     2\n",
              "23             1          Savings  ...               122                     3\n",
              "24             1           Health  ...                14                     4\n",
              "25             0       Investment  ...               316                     0\n",
              "26             0       Protection  ...               263                     1\n",
              "27             0       Retirement  ...               194                     2\n",
              "28             0          Savings  ...                61                     3\n",
              "29             0           Health  ...                 7                     4\n",
              "\n",
              "[30 rows x 9 columns]"
            ]
          },
          "metadata": {
            "tags": []
          },
          "execution_count": 43
        }
      ]
    },
    {
      "cell_type": "code",
      "metadata": {
        "id": "sLEYmwmGEW1w",
        "colab_type": "code",
        "colab": {
          "base_uri": "https://localhost:8080/",
          "height": 224
        },
        "outputId": "f79672b0-4b67-4fd1-f1f9-a526f7da6a0e"
      },
      "source": [
        "buyer_related_with_seg.head()"
      ],
      "execution_count": 44,
      "outputs": [
        {
          "output_type": "execute_result",
          "data": {
            "text/html": [
              "<div>\n",
              "<style scoped>\n",
              "    .dataframe tbody tr th:only-of-type {\n",
              "        vertical-align: middle;\n",
              "    }\n",
              "\n",
              "    .dataframe tbody tr th {\n",
              "        vertical-align: top;\n",
              "    }\n",
              "\n",
              "    .dataframe thead th {\n",
              "        text-align: right;\n",
              "    }\n",
              "</style>\n",
              "<table border=\"1\" class=\"dataframe\">\n",
              "  <thead>\n",
              "    <tr style=\"text-align: right;\">\n",
              "      <th></th>\n",
              "      <th>BUYER_ID</th>\n",
              "      <th>OWNER_AGE</th>\n",
              "      <th>OWNER_GENDER</th>\n",
              "      <th>CLASS_ORDER</th>\n",
              "      <th>PRODUCT_CATEGORY</th>\n",
              "      <th>PRODUCT_CODE</th>\n",
              "      <th>OWNER_OCCUPATION</th>\n",
              "      <th>segmentation</th>\n",
              "    </tr>\n",
              "  </thead>\n",
              "  <tbody>\n",
              "    <tr>\n",
              "      <th>0</th>\n",
              "      <td>PART_ID_10751</td>\n",
              "      <td>34.0</td>\n",
              "      <td>0.0</td>\n",
              "      <td>0</td>\n",
              "      <td>Investment</td>\n",
              "      <td>2,161</td>\n",
              "      <td>2588</td>\n",
              "      <td>5</td>\n",
              "    </tr>\n",
              "    <tr>\n",
              "      <th>1</th>\n",
              "      <td>PART_ID_8104</td>\n",
              "      <td>53.0</td>\n",
              "      <td>0.0</td>\n",
              "      <td>4</td>\n",
              "      <td>Retirement</td>\n",
              "      <td>2,198</td>\n",
              "      <td>1506</td>\n",
              "      <td>2</td>\n",
              "    </tr>\n",
              "    <tr>\n",
              "      <th>2</th>\n",
              "      <td>PART_ID_15437</td>\n",
              "      <td>59.0</td>\n",
              "      <td>0.0</td>\n",
              "      <td>0</td>\n",
              "      <td>Investment</td>\n",
              "      <td>2,163</td>\n",
              "      <td>1807</td>\n",
              "      <td>2</td>\n",
              "    </tr>\n",
              "    <tr>\n",
              "      <th>3</th>\n",
              "      <td>PART_ID_578</td>\n",
              "      <td>50.0</td>\n",
              "      <td>0.0</td>\n",
              "      <td>10</td>\n",
              "      <td>Retirement</td>\n",
              "      <td>2,127</td>\n",
              "      <td>299</td>\n",
              "      <td>1</td>\n",
              "    </tr>\n",
              "    <tr>\n",
              "      <th>4</th>\n",
              "      <td>PART_ID_578</td>\n",
              "      <td>50.0</td>\n",
              "      <td>0.0</td>\n",
              "      <td>10</td>\n",
              "      <td>Protection</td>\n",
              "      <td>1,476</td>\n",
              "      <td>299</td>\n",
              "      <td>1</td>\n",
              "    </tr>\n",
              "  </tbody>\n",
              "</table>\n",
              "</div>"
            ],
            "text/plain": [
              "        BUYER_ID  OWNER_AGE  ...  OWNER_OCCUPATION  segmentation\n",
              "0  PART_ID_10751       34.0  ...              2588             5\n",
              "1   PART_ID_8104       53.0  ...              1506             2\n",
              "2  PART_ID_15437       59.0  ...              1807             2\n",
              "3    PART_ID_578       50.0  ...               299             1\n",
              "4    PART_ID_578       50.0  ...               299             1\n",
              "\n",
              "[5 rows x 8 columns]"
            ]
          },
          "metadata": {
            "tags": []
          },
          "execution_count": 44
        }
      ]
    },
    {
      "cell_type": "code",
      "metadata": {
        "id": "owU_Yn8ECOE4",
        "colab_type": "code",
        "colab": {}
      },
      "source": [
        "unique_ID_purchase = pd.DataFrame()\n",
        "individual_purchase = pd.DataFrame(buyer_related_with_seg.groupby('BUYER_ID')['PRODUCT_CATEGORY'].unique())\n",
        "individual_seg = pd.DataFrame(buyer_related_with_seg.groupby('BUYER_ID')['segmentation'].unique())\n",
        "individual_purchase = individual_purchase.merge(individual_seg, left_index= True, right_index= True, how='inner').reset_index()"
      ],
      "execution_count": 0,
      "outputs": []
    },
    {
      "cell_type": "code",
      "metadata": {
        "id": "QxJ1sfoqD7Zo",
        "colab_type": "code",
        "colab": {
          "base_uri": "https://localhost:8080/",
          "height": 359
        },
        "outputId": "9218723a-e2d0-4910-ff81-049dbfc44a43"
      },
      "source": [
        "individual_purchase.tail(10)"
      ],
      "execution_count": 53,
      "outputs": [
        {
          "output_type": "execute_result",
          "data": {
            "text/html": [
              "<div>\n",
              "<style scoped>\n",
              "    .dataframe tbody tr th:only-of-type {\n",
              "        vertical-align: middle;\n",
              "    }\n",
              "\n",
              "    .dataframe tbody tr th {\n",
              "        vertical-align: top;\n",
              "    }\n",
              "\n",
              "    .dataframe thead th {\n",
              "        text-align: right;\n",
              "    }\n",
              "</style>\n",
              "<table border=\"1\" class=\"dataframe\">\n",
              "  <thead>\n",
              "    <tr style=\"text-align: right;\">\n",
              "      <th></th>\n",
              "      <th>BUYER_ID</th>\n",
              "      <th>PRODUCT_CATEGORY</th>\n",
              "      <th>segmentation</th>\n",
              "    </tr>\n",
              "  </thead>\n",
              "  <tbody>\n",
              "    <tr>\n",
              "      <th>11687</th>\n",
              "      <td>PART_ID_9982</td>\n",
              "      <td>[Protection]</td>\n",
              "      <td>[4]</td>\n",
              "    </tr>\n",
              "    <tr>\n",
              "      <th>11688</th>\n",
              "      <td>PART_ID_9983</td>\n",
              "      <td>[Protection]</td>\n",
              "      <td>[5]</td>\n",
              "    </tr>\n",
              "    <tr>\n",
              "      <th>11689</th>\n",
              "      <td>PART_ID_9986</td>\n",
              "      <td>[Investment]</td>\n",
              "      <td>[1]</td>\n",
              "    </tr>\n",
              "    <tr>\n",
              "      <th>11690</th>\n",
              "      <td>PART_ID_999</td>\n",
              "      <td>[Retirement]</td>\n",
              "      <td>[1]</td>\n",
              "    </tr>\n",
              "    <tr>\n",
              "      <th>11691</th>\n",
              "      <td>PART_ID_9990</td>\n",
              "      <td>[Investment]</td>\n",
              "      <td>[1]</td>\n",
              "    </tr>\n",
              "    <tr>\n",
              "      <th>11692</th>\n",
              "      <td>PART_ID_9991</td>\n",
              "      <td>[Investment]</td>\n",
              "      <td>[5]</td>\n",
              "    </tr>\n",
              "    <tr>\n",
              "      <th>11693</th>\n",
              "      <td>PART_ID_9992</td>\n",
              "      <td>[Investment]</td>\n",
              "      <td>[1]</td>\n",
              "    </tr>\n",
              "    <tr>\n",
              "      <th>11694</th>\n",
              "      <td>PART_ID_9993</td>\n",
              "      <td>[Investment]</td>\n",
              "      <td>[1]</td>\n",
              "    </tr>\n",
              "    <tr>\n",
              "      <th>11695</th>\n",
              "      <td>PART_ID_9995</td>\n",
              "      <td>[Investment]</td>\n",
              "      <td>[1]</td>\n",
              "    </tr>\n",
              "    <tr>\n",
              "      <th>11696</th>\n",
              "      <td>PART_ID_9997</td>\n",
              "      <td>[Investment]</td>\n",
              "      <td>[2]</td>\n",
              "    </tr>\n",
              "  </tbody>\n",
              "</table>\n",
              "</div>"
            ],
            "text/plain": [
              "           BUYER_ID PRODUCT_CATEGORY segmentation\n",
              "11687  PART_ID_9982     [Protection]          [4]\n",
              "11688  PART_ID_9983     [Protection]          [5]\n",
              "11689  PART_ID_9986     [Investment]          [1]\n",
              "11690   PART_ID_999     [Retirement]          [1]\n",
              "11691  PART_ID_9990     [Investment]          [1]\n",
              "11692  PART_ID_9991     [Investment]          [5]\n",
              "11693  PART_ID_9992     [Investment]          [1]\n",
              "11694  PART_ID_9993     [Investment]          [1]\n",
              "11695  PART_ID_9995     [Investment]          [1]\n",
              "11696  PART_ID_9997     [Investment]          [2]"
            ]
          },
          "metadata": {
            "tags": []
          },
          "execution_count": 53
        }
      ]
    },
    {
      "cell_type": "code",
      "metadata": {
        "id": "h0mmsWMqE6wP",
        "colab_type": "code",
        "colab": {}
      },
      "source": [
        "next_recommend = []\n",
        "for i in range(len(individual_purchase)):\n",
        "    customer_seg = individual_purchase.loc[i,'segmentation'][0]   \n",
        "    seg_recommend = rec_order[rec_order['segmentation'] == customer_seg][['PRODUCT_CATEGORY','recommendation_order']].reset_index(drop=True)\n",
        "    recommend_list = list(seg_recommend.PRODUCT_CATEGORY)\n",
        "    product_bought = individual_purchase.loc[i,'PRODUCT_CATEGORY']\n",
        "    for j in range(len(recommend_list)):\n",
        "        if recommend_list[j] not in product_bought:   \n",
        "            next_recommend.append([individual_purchase.loc[i,'BUYER_ID'],recommend_list[j]])\n",
        "            break\n",
        "        else:\n",
        "            continue\n"
      ],
      "execution_count": 0,
      "outputs": []
    },
    {
      "cell_type": "code",
      "metadata": {
        "id": "gVAQ3NcJHntU",
        "colab_type": "code",
        "colab": {}
      },
      "source": [
        "pd.DataFrame(next_recommend,columns=['BUYER_ID','recommendation']).to_csv('/gdrive/My Drive/assignment/Allianz_exercise/Recommendation.csv') "
      ],
      "execution_count": 0,
      "outputs": []
    },
    {
      "cell_type": "code",
      "metadata": {
        "id": "N64TUtu8l40p",
        "colab_type": "code",
        "colab": {
          "base_uri": "https://localhost:8080/",
          "height": 204
        },
        "outputId": "8a135f75-3505-48fe-94e0-136e5b4b7b5f"
      },
      "source": [
        "pd.DataFrame(next_recommend,columns=['BUYER_ID','recommendation']).head()"
      ],
      "execution_count": 50,
      "outputs": [
        {
          "output_type": "execute_result",
          "data": {
            "text/html": [
              "<div>\n",
              "<style scoped>\n",
              "    .dataframe tbody tr th:only-of-type {\n",
              "        vertical-align: middle;\n",
              "    }\n",
              "\n",
              "    .dataframe tbody tr th {\n",
              "        vertical-align: top;\n",
              "    }\n",
              "\n",
              "    .dataframe thead th {\n",
              "        text-align: right;\n",
              "    }\n",
              "</style>\n",
              "<table border=\"1\" class=\"dataframe\">\n",
              "  <thead>\n",
              "    <tr style=\"text-align: right;\">\n",
              "      <th></th>\n",
              "      <th>BUYER_ID</th>\n",
              "      <th>recommendation</th>\n",
              "    </tr>\n",
              "  </thead>\n",
              "  <tbody>\n",
              "    <tr>\n",
              "      <th>0</th>\n",
              "      <td>PART_ID_10</td>\n",
              "      <td>Investment</td>\n",
              "    </tr>\n",
              "    <tr>\n",
              "      <th>1</th>\n",
              "      <td>PART_ID_100</td>\n",
              "      <td>Retirement</td>\n",
              "    </tr>\n",
              "    <tr>\n",
              "      <th>2</th>\n",
              "      <td>PART_ID_1000</td>\n",
              "      <td>Retirement</td>\n",
              "    </tr>\n",
              "    <tr>\n",
              "      <th>3</th>\n",
              "      <td>PART_ID_10000</td>\n",
              "      <td>Protection</td>\n",
              "    </tr>\n",
              "    <tr>\n",
              "      <th>4</th>\n",
              "      <td>PART_ID_10001</td>\n",
              "      <td>Protection</td>\n",
              "    </tr>\n",
              "  </tbody>\n",
              "</table>\n",
              "</div>"
            ],
            "text/plain": [
              "        BUYER_ID recommendation\n",
              "0     PART_ID_10     Investment\n",
              "1    PART_ID_100     Retirement\n",
              "2   PART_ID_1000     Retirement\n",
              "3  PART_ID_10000     Protection\n",
              "4  PART_ID_10001     Protection"
            ]
          },
          "metadata": {
            "tags": []
          },
          "execution_count": 50
        }
      ]
    },
    {
      "cell_type": "code",
      "metadata": {
        "id": "8lEdN_N0mMuY",
        "colab_type": "code",
        "colab": {}
      },
      "source": [
        ""
      ],
      "execution_count": 0,
      "outputs": []
    }
  ]
}